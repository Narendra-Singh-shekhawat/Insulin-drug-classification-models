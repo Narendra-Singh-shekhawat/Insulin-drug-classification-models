{
  "nbformat": 4,
  "nbformat_minor": 0,
  "metadata": {
    "colab": {
      "name": "classification problem on insulin drug",
      "provenance": [],
      "collapsed_sections": [],
      "include_colab_link": true
    },
    "kernelspec": {
      "name": "python3",
      "display_name": "Python 3"
    }
  },
  "cells": [
    {
      "cell_type": "markdown",
      "metadata": {
        "id": "view-in-github",
        "colab_type": "text"
      },
      "source": [
        "<a href=\"https://colab.research.google.com/github/Narendra-Singh-shekhawat/Insulin-drug-classification-models/blob/master/classification_problem_on_insulin_drug.ipynb\" target=\"_parent\"><img src=\"https://colab.research.google.com/assets/colab-badge.svg\" alt=\"Open In Colab\"/></a>"
      ]
    },
    {
      "cell_type": "code",
      "metadata": {
        "id": "jdsGu2pEayzy",
        "colab_type": "code",
        "colab": {}
      },
      "source": [
        "from google.colab import drive"
      ],
      "execution_count": null,
      "outputs": []
    },
    {
      "cell_type": "code",
      "metadata": {
        "id": "zypTZsPkbDEw",
        "colab_type": "code",
        "colab": {
          "base_uri": "https://localhost:8080/",
          "height": 124
        },
        "outputId": "c418cb25-cd46-4194-9399-55a830b292d2"
      },
      "source": [
        "drive.mount(\"/content/drive/\")"
      ],
      "execution_count": null,
      "outputs": [
        {
          "output_type": "stream",
          "text": [
            "Go to this URL in a browser: https://accounts.google.com/o/oauth2/auth?client_id=947318989803-6bn6qk8qdgf4n4g3pfee6491hc0brc4i.apps.googleusercontent.com&redirect_uri=urn%3aietf%3awg%3aoauth%3a2.0%3aoob&response_type=code&scope=email%20https%3a%2f%2fwww.googleapis.com%2fauth%2fdocs.test%20https%3a%2f%2fwww.googleapis.com%2fauth%2fdrive%20https%3a%2f%2fwww.googleapis.com%2fauth%2fdrive.photos.readonly%20https%3a%2f%2fwww.googleapis.com%2fauth%2fpeopleapi.readonly\n",
            "\n",
            "Enter your authorization code:\n",
            "··········\n",
            "Mounted at /content/drive/\n"
          ],
          "name": "stdout"
        }
      ]
    },
    {
      "cell_type": "code",
      "metadata": {
        "id": "N8rzX5PJbeWe",
        "colab_type": "code",
        "colab": {}
      },
      "source": [
        "import numpy as np\n",
        "import pandas as pd\n",
        "import pandas as pd\n",
        "import numpy as np\n",
        "import statsmodels.api as sm\n",
        "import scipy.stats as st\n",
        "import matplotlib.pyplot as plt\n",
        "from sklearn.metrics import confusion_matrix\n",
        "import matplotlib.mlab as mlab\n",
        "from sklearn import metrics\n",
        "import seaborn as sns\n",
        "from matplotlib import pyplot as plt\n",
        "import warnings\n",
        "warnings.filterwarnings(\"ignore\")"
      ],
      "execution_count": null,
      "outputs": []
    },
    {
      "cell_type": "code",
      "metadata": {
        "id": "2jHKeSWm_YCW",
        "colab_type": "code",
        "colab": {}
      },
      "source": [
        "from sklearn.model_selection import train_test_split\n",
        "from sklearn.pipeline import make_pipeline\n",
        "from sklearn.metrics import precision_score, recall_score, f1_score, roc_auc_score, accuracy_score, classification_report\n",
        "from collections import Counter\n",
        "from sklearn.model_selection import KFold, StratifiedKFold\n",
        "from scipy.stats import ttest_1samp,ttest_ind,levene,shapiro,bartlett,wilcoxon,mannwhitneyu,chi2_contingency\n",
        "import seaborn as sns"
      ],
      "execution_count": null,
      "outputs": []
    },
    {
      "cell_type": "code",
      "metadata": {
        "id": "-hF-oKs9b7R-",
        "colab_type": "code",
        "colab": {}
      },
      "source": [
        "df=pd.read_csv(\"/content/drive/My Drive/diabetic_data.csv\")"
      ],
      "execution_count": null,
      "outputs": []
    },
    {
      "cell_type": "code",
      "metadata": {
        "id": "Q-pGKTo6cImR",
        "colab_type": "code",
        "colab": {
          "base_uri": "https://localhost:8080/",
          "height": 938
        },
        "outputId": "cdd1b6d8-41fb-4be0-edcf-85683870c8c6"
      },
      "source": [
        "df.head().T"
      ],
      "execution_count": null,
      "outputs": [
        {
          "output_type": "execute_result",
          "data": {
            "text/html": [
              "<div>\n",
              "<style scoped>\n",
              "    .dataframe tbody tr th:only-of-type {\n",
              "        vertical-align: middle;\n",
              "    }\n",
              "\n",
              "    .dataframe tbody tr th {\n",
              "        vertical-align: top;\n",
              "    }\n",
              "\n",
              "    .dataframe thead th {\n",
              "        text-align: right;\n",
              "    }\n",
              "</style>\n",
              "<table border=\"1\" class=\"dataframe\">\n",
              "  <thead>\n",
              "    <tr style=\"text-align: right;\">\n",
              "      <th></th>\n",
              "      <th>0</th>\n",
              "      <th>1</th>\n",
              "      <th>2</th>\n",
              "      <th>3</th>\n",
              "      <th>4</th>\n",
              "    </tr>\n",
              "  </thead>\n",
              "  <tbody>\n",
              "    <tr>\n",
              "      <th>encounter_id</th>\n",
              "      <td>2278392</td>\n",
              "      <td>149190</td>\n",
              "      <td>64410</td>\n",
              "      <td>500364</td>\n",
              "      <td>16680</td>\n",
              "    </tr>\n",
              "    <tr>\n",
              "      <th>max_glu_serum</th>\n",
              "      <td>None</td>\n",
              "      <td>None</td>\n",
              "      <td>None</td>\n",
              "      <td>None</td>\n",
              "      <td>None</td>\n",
              "    </tr>\n",
              "    <tr>\n",
              "      <th>A1Cresult</th>\n",
              "      <td>None</td>\n",
              "      <td>None</td>\n",
              "      <td>None</td>\n",
              "      <td>None</td>\n",
              "      <td>None</td>\n",
              "    </tr>\n",
              "    <tr>\n",
              "      <th>metformin</th>\n",
              "      <td>No</td>\n",
              "      <td>No</td>\n",
              "      <td>No</td>\n",
              "      <td>No</td>\n",
              "      <td>No</td>\n",
              "    </tr>\n",
              "    <tr>\n",
              "      <th>repaglinide</th>\n",
              "      <td>No</td>\n",
              "      <td>No</td>\n",
              "      <td>No</td>\n",
              "      <td>No</td>\n",
              "      <td>No</td>\n",
              "    </tr>\n",
              "    <tr>\n",
              "      <th>nateglinide</th>\n",
              "      <td>No</td>\n",
              "      <td>No</td>\n",
              "      <td>No</td>\n",
              "      <td>No</td>\n",
              "      <td>No</td>\n",
              "    </tr>\n",
              "    <tr>\n",
              "      <th>chlorpropamide</th>\n",
              "      <td>No</td>\n",
              "      <td>No</td>\n",
              "      <td>No</td>\n",
              "      <td>No</td>\n",
              "      <td>No</td>\n",
              "    </tr>\n",
              "    <tr>\n",
              "      <th>glimepiride</th>\n",
              "      <td>No</td>\n",
              "      <td>No</td>\n",
              "      <td>No</td>\n",
              "      <td>No</td>\n",
              "      <td>No</td>\n",
              "    </tr>\n",
              "    <tr>\n",
              "      <th>acetohexamide</th>\n",
              "      <td>No</td>\n",
              "      <td>No</td>\n",
              "      <td>No</td>\n",
              "      <td>No</td>\n",
              "      <td>No</td>\n",
              "    </tr>\n",
              "    <tr>\n",
              "      <th>glipizide</th>\n",
              "      <td>No</td>\n",
              "      <td>No</td>\n",
              "      <td>Steady</td>\n",
              "      <td>No</td>\n",
              "      <td>Steady</td>\n",
              "    </tr>\n",
              "    <tr>\n",
              "      <th>glyburide</th>\n",
              "      <td>No</td>\n",
              "      <td>No</td>\n",
              "      <td>No</td>\n",
              "      <td>No</td>\n",
              "      <td>No</td>\n",
              "    </tr>\n",
              "    <tr>\n",
              "      <th>tolbutamide</th>\n",
              "      <td>No</td>\n",
              "      <td>No</td>\n",
              "      <td>No</td>\n",
              "      <td>No</td>\n",
              "      <td>No</td>\n",
              "    </tr>\n",
              "    <tr>\n",
              "      <th>pioglitazone</th>\n",
              "      <td>No</td>\n",
              "      <td>No</td>\n",
              "      <td>No</td>\n",
              "      <td>No</td>\n",
              "      <td>No</td>\n",
              "    </tr>\n",
              "    <tr>\n",
              "      <th>rosiglitazone</th>\n",
              "      <td>No</td>\n",
              "      <td>No</td>\n",
              "      <td>No</td>\n",
              "      <td>No</td>\n",
              "      <td>No</td>\n",
              "    </tr>\n",
              "    <tr>\n",
              "      <th>acarbose</th>\n",
              "      <td>No</td>\n",
              "      <td>No</td>\n",
              "      <td>No</td>\n",
              "      <td>No</td>\n",
              "      <td>No</td>\n",
              "    </tr>\n",
              "    <tr>\n",
              "      <th>miglitol</th>\n",
              "      <td>No</td>\n",
              "      <td>No</td>\n",
              "      <td>No</td>\n",
              "      <td>No</td>\n",
              "      <td>No</td>\n",
              "    </tr>\n",
              "    <tr>\n",
              "      <th>troglitazone</th>\n",
              "      <td>No</td>\n",
              "      <td>No</td>\n",
              "      <td>No</td>\n",
              "      <td>No</td>\n",
              "      <td>No</td>\n",
              "    </tr>\n",
              "    <tr>\n",
              "      <th>tolazamide</th>\n",
              "      <td>No</td>\n",
              "      <td>No</td>\n",
              "      <td>No</td>\n",
              "      <td>No</td>\n",
              "      <td>No</td>\n",
              "    </tr>\n",
              "    <tr>\n",
              "      <th>examide</th>\n",
              "      <td>No</td>\n",
              "      <td>No</td>\n",
              "      <td>No</td>\n",
              "      <td>No</td>\n",
              "      <td>No</td>\n",
              "    </tr>\n",
              "    <tr>\n",
              "      <th>citoglipton</th>\n",
              "      <td>No</td>\n",
              "      <td>No</td>\n",
              "      <td>No</td>\n",
              "      <td>No</td>\n",
              "      <td>No</td>\n",
              "    </tr>\n",
              "    <tr>\n",
              "      <th>insulin</th>\n",
              "      <td>No</td>\n",
              "      <td>Up</td>\n",
              "      <td>No</td>\n",
              "      <td>Up</td>\n",
              "      <td>Steady</td>\n",
              "    </tr>\n",
              "    <tr>\n",
              "      <th>glyburide-metformin</th>\n",
              "      <td>No</td>\n",
              "      <td>No</td>\n",
              "      <td>No</td>\n",
              "      <td>No</td>\n",
              "      <td>No</td>\n",
              "    </tr>\n",
              "    <tr>\n",
              "      <th>glipizide-metformin</th>\n",
              "      <td>No</td>\n",
              "      <td>No</td>\n",
              "      <td>No</td>\n",
              "      <td>No</td>\n",
              "      <td>No</td>\n",
              "    </tr>\n",
              "    <tr>\n",
              "      <th>glimepiride-pioglitazone</th>\n",
              "      <td>No</td>\n",
              "      <td>No</td>\n",
              "      <td>No</td>\n",
              "      <td>No</td>\n",
              "      <td>No</td>\n",
              "    </tr>\n",
              "    <tr>\n",
              "      <th>metformin-rosiglitazone</th>\n",
              "      <td>No</td>\n",
              "      <td>No</td>\n",
              "      <td>No</td>\n",
              "      <td>No</td>\n",
              "      <td>No</td>\n",
              "    </tr>\n",
              "    <tr>\n",
              "      <th>metformin-pioglitazone</th>\n",
              "      <td>No</td>\n",
              "      <td>No</td>\n",
              "      <td>No</td>\n",
              "      <td>No</td>\n",
              "      <td>No</td>\n",
              "    </tr>\n",
              "    <tr>\n",
              "      <th>change</th>\n",
              "      <td>No</td>\n",
              "      <td>Ch</td>\n",
              "      <td>No</td>\n",
              "      <td>Ch</td>\n",
              "      <td>Ch</td>\n",
              "    </tr>\n",
              "    <tr>\n",
              "      <th>diabetesMed</th>\n",
              "      <td>No</td>\n",
              "      <td>Yes</td>\n",
              "      <td>Yes</td>\n",
              "      <td>Yes</td>\n",
              "      <td>Yes</td>\n",
              "    </tr>\n",
              "    <tr>\n",
              "      <th>readmitted</th>\n",
              "      <td>NO</td>\n",
              "      <td>&gt;30</td>\n",
              "      <td>NO</td>\n",
              "      <td>NO</td>\n",
              "      <td>NO</td>\n",
              "    </tr>\n",
              "  </tbody>\n",
              "</table>\n",
              "</div>"
            ],
            "text/plain": [
              "                                0       1       2       3       4\n",
              "encounter_id              2278392  149190   64410  500364   16680\n",
              "max_glu_serum                None    None    None    None    None\n",
              "A1Cresult                    None    None    None    None    None\n",
              "metformin                      No      No      No      No      No\n",
              "repaglinide                    No      No      No      No      No\n",
              "nateglinide                    No      No      No      No      No\n",
              "chlorpropamide                 No      No      No      No      No\n",
              "glimepiride                    No      No      No      No      No\n",
              "acetohexamide                  No      No      No      No      No\n",
              "glipizide                      No      No  Steady      No  Steady\n",
              "glyburide                      No      No      No      No      No\n",
              "tolbutamide                    No      No      No      No      No\n",
              "pioglitazone                   No      No      No      No      No\n",
              "rosiglitazone                  No      No      No      No      No\n",
              "acarbose                       No      No      No      No      No\n",
              "miglitol                       No      No      No      No      No\n",
              "troglitazone                   No      No      No      No      No\n",
              "tolazamide                     No      No      No      No      No\n",
              "examide                        No      No      No      No      No\n",
              "citoglipton                    No      No      No      No      No\n",
              "insulin                        No      Up      No      Up  Steady\n",
              "glyburide-metformin            No      No      No      No      No\n",
              "glipizide-metformin            No      No      No      No      No\n",
              "glimepiride-pioglitazone       No      No      No      No      No\n",
              "metformin-rosiglitazone        No      No      No      No      No\n",
              "metformin-pioglitazone         No      No      No      No      No\n",
              "change                         No      Ch      No      Ch      Ch\n",
              "diabetesMed                    No     Yes     Yes     Yes     Yes\n",
              "readmitted                     NO     >30      NO      NO      NO"
            ]
          },
          "metadata": {
            "tags": []
          },
          "execution_count": 6
        }
      ]
    },
    {
      "cell_type": "code",
      "metadata": {
        "id": "uKWvzv5ccLN1",
        "colab_type": "code",
        "colab": {}
      },
      "source": [
        "df1=pd.read_excel(\"/content/drive/My Drive/Diagnosis_session.xlsx\")"
      ],
      "execution_count": null,
      "outputs": []
    },
    {
      "cell_type": "code",
      "metadata": {
        "id": "wa4OHdj_cpc3",
        "colab_type": "code",
        "colab": {}
      },
      "source": [
        "df2=pd.read_excel(\"/content/drive/My Drive/Lab-session.xlsx\")"
      ],
      "execution_count": null,
      "outputs": []
    },
    {
      "cell_type": "code",
      "metadata": {
        "id": "N3cPjfo-gBzO",
        "colab_type": "code",
        "colab": {
          "base_uri": "https://localhost:8080/",
          "height": 141
        },
        "outputId": "71f63a59-56d3-4e8a-ab33-aea18a26ff21"
      },
      "source": [
        "df2.drop(columns='encounter_id',inplace=True)\n",
        "df2.head(3)"
      ],
      "execution_count": null,
      "outputs": [
        {
          "output_type": "execute_result",
          "data": {
            "text/html": [
              "<div>\n",
              "<style scoped>\n",
              "    .dataframe tbody tr th:only-of-type {\n",
              "        vertical-align: middle;\n",
              "    }\n",
              "\n",
              "    .dataframe tbody tr th {\n",
              "        vertical-align: top;\n",
              "    }\n",
              "\n",
              "    .dataframe thead th {\n",
              "        text-align: right;\n",
              "    }\n",
              "</style>\n",
              "<table border=\"1\" class=\"dataframe\">\n",
              "  <thead>\n",
              "    <tr style=\"text-align: right;\">\n",
              "      <th></th>\n",
              "      <th>num_lab_procedures</th>\n",
              "      <th>num_procedures</th>\n",
              "      <th>num_medications</th>\n",
              "      <th>number_outpatient</th>\n",
              "      <th>number_emergency</th>\n",
              "      <th>number_inpatient</th>\n",
              "    </tr>\n",
              "  </thead>\n",
              "  <tbody>\n",
              "    <tr>\n",
              "      <th>0</th>\n",
              "      <td>41</td>\n",
              "      <td>0</td>\n",
              "      <td>1</td>\n",
              "      <td>0</td>\n",
              "      <td>0</td>\n",
              "      <td>0</td>\n",
              "    </tr>\n",
              "    <tr>\n",
              "      <th>1</th>\n",
              "      <td>59</td>\n",
              "      <td>0</td>\n",
              "      <td>18</td>\n",
              "      <td>0</td>\n",
              "      <td>0</td>\n",
              "      <td>0</td>\n",
              "    </tr>\n",
              "    <tr>\n",
              "      <th>2</th>\n",
              "      <td>11</td>\n",
              "      <td>5</td>\n",
              "      <td>13</td>\n",
              "      <td>2</td>\n",
              "      <td>0</td>\n",
              "      <td>1</td>\n",
              "    </tr>\n",
              "  </tbody>\n",
              "</table>\n",
              "</div>"
            ],
            "text/plain": [
              "   num_lab_procedures  num_procedures  ...  number_emergency  number_inpatient\n",
              "0                  41               0  ...                 0                 0\n",
              "1                  59               0  ...                 0                 0\n",
              "2                  11               5  ...                 0                 1\n",
              "\n",
              "[3 rows x 6 columns]"
            ]
          },
          "metadata": {
            "tags": []
          },
          "execution_count": 9
        }
      ]
    },
    {
      "cell_type": "code",
      "metadata": {
        "id": "Y-iPxbAQdnJG",
        "colab_type": "code",
        "colab": {}
      },
      "source": [
        "df3=pd.read_excel(\"/content/drive/My Drive/Paitent_details.xlsx\")"
      ],
      "execution_count": null,
      "outputs": []
    },
    {
      "cell_type": "code",
      "metadata": {
        "id": "KS8dxD0FgPfj",
        "colab_type": "code",
        "colab": {
          "base_uri": "https://localhost:8080/",
          "height": 141
        },
        "outputId": "70798faa-921d-405d-fde7-bf50011c24a1"
      },
      "source": [
        "df3.drop(['encounter_id','patient_nbr'],axis=1,inplace=True)\n",
        "df3.head(3)"
      ],
      "execution_count": null,
      "outputs": [
        {
          "output_type": "execute_result",
          "data": {
            "text/html": [
              "<div>\n",
              "<style scoped>\n",
              "    .dataframe tbody tr th:only-of-type {\n",
              "        vertical-align: middle;\n",
              "    }\n",
              "\n",
              "    .dataframe tbody tr th {\n",
              "        vertical-align: top;\n",
              "    }\n",
              "\n",
              "    .dataframe thead th {\n",
              "        text-align: right;\n",
              "    }\n",
              "</style>\n",
              "<table border=\"1\" class=\"dataframe\">\n",
              "  <thead>\n",
              "    <tr style=\"text-align: right;\">\n",
              "      <th></th>\n",
              "      <th>race</th>\n",
              "      <th>gender</th>\n",
              "      <th>age</th>\n",
              "      <th>weight</th>\n",
              "    </tr>\n",
              "  </thead>\n",
              "  <tbody>\n",
              "    <tr>\n",
              "      <th>0</th>\n",
              "      <td>Caucasian</td>\n",
              "      <td>Female</td>\n",
              "      <td>[0-10)</td>\n",
              "      <td>?</td>\n",
              "    </tr>\n",
              "    <tr>\n",
              "      <th>1</th>\n",
              "      <td>Caucasian</td>\n",
              "      <td>Female</td>\n",
              "      <td>[10-20)</td>\n",
              "      <td>?</td>\n",
              "    </tr>\n",
              "    <tr>\n",
              "      <th>2</th>\n",
              "      <td>AfricanAmerican</td>\n",
              "      <td>Female</td>\n",
              "      <td>[20-30)</td>\n",
              "      <td>?</td>\n",
              "    </tr>\n",
              "  </tbody>\n",
              "</table>\n",
              "</div>"
            ],
            "text/plain": [
              "              race  gender      age weight\n",
              "0        Caucasian  Female   [0-10)      ?\n",
              "1        Caucasian  Female  [10-20)      ?\n",
              "2  AfricanAmerican  Female  [20-30)      ?"
            ]
          },
          "metadata": {
            "tags": []
          },
          "execution_count": 11
        }
      ]
    },
    {
      "cell_type": "code",
      "metadata": {
        "id": "WbjnxG9Hdx3R",
        "colab_type": "code",
        "colab": {}
      },
      "source": [
        "df4=pd.read_excel(\"/content/drive/My Drive/admission_details.xlsx\")"
      ],
      "execution_count": null,
      "outputs": []
    },
    {
      "cell_type": "code",
      "metadata": {
        "id": "0HmcFsM6fZlU",
        "colab_type": "code",
        "colab": {
          "base_uri": "https://localhost:8080/",
          "height": 141
        },
        "outputId": "2097a960-373a-48fc-d077-f8875bb0588b"
      },
      "source": [
        "df4.drop(columns='patient_nbr',inplace=True)\n",
        "df4.head(3)"
      ],
      "execution_count": null,
      "outputs": [
        {
          "output_type": "execute_result",
          "data": {
            "text/html": [
              "<div>\n",
              "<style scoped>\n",
              "    .dataframe tbody tr th:only-of-type {\n",
              "        vertical-align: middle;\n",
              "    }\n",
              "\n",
              "    .dataframe tbody tr th {\n",
              "        vertical-align: top;\n",
              "    }\n",
              "\n",
              "    .dataframe thead th {\n",
              "        text-align: right;\n",
              "    }\n",
              "</style>\n",
              "<table border=\"1\" class=\"dataframe\">\n",
              "  <thead>\n",
              "    <tr style=\"text-align: right;\">\n",
              "      <th></th>\n",
              "      <th>admission_type_id</th>\n",
              "      <th>discharge_disposition_id</th>\n",
              "      <th>admission_source_id</th>\n",
              "      <th>time_in_hospital</th>\n",
              "      <th>payer_code</th>\n",
              "      <th>medical_specialty</th>\n",
              "    </tr>\n",
              "  </thead>\n",
              "  <tbody>\n",
              "    <tr>\n",
              "      <th>0</th>\n",
              "      <td>6</td>\n",
              "      <td>25</td>\n",
              "      <td>1</td>\n",
              "      <td>1</td>\n",
              "      <td>?</td>\n",
              "      <td>Pediatrics-Endocrinology</td>\n",
              "    </tr>\n",
              "    <tr>\n",
              "      <th>1</th>\n",
              "      <td>1</td>\n",
              "      <td>1</td>\n",
              "      <td>7</td>\n",
              "      <td>3</td>\n",
              "      <td>?</td>\n",
              "      <td>?</td>\n",
              "    </tr>\n",
              "    <tr>\n",
              "      <th>2</th>\n",
              "      <td>1</td>\n",
              "      <td>1</td>\n",
              "      <td>7</td>\n",
              "      <td>2</td>\n",
              "      <td>?</td>\n",
              "      <td>?</td>\n",
              "    </tr>\n",
              "  </tbody>\n",
              "</table>\n",
              "</div>"
            ],
            "text/plain": [
              "   admission_type_id  ...         medical_specialty\n",
              "0                  6  ...  Pediatrics-Endocrinology\n",
              "1                  1  ...                         ?\n",
              "2                  1  ...                         ?\n",
              "\n",
              "[3 rows x 6 columns]"
            ]
          },
          "metadata": {
            "tags": []
          },
          "execution_count": 13
        }
      ]
    },
    {
      "cell_type": "code",
      "metadata": {
        "id": "4b7uFqLCglaJ",
        "colab_type": "code",
        "colab": {}
      },
      "source": [
        "frames = [df, df1, df2, df3, df4]\n",
        "df_new = pd.concat(frames,axis=1)"
      ],
      "execution_count": null,
      "outputs": []
    },
    {
      "cell_type": "code",
      "metadata": {
        "id": "XpptXXmSgqQq",
        "colab_type": "code",
        "colab": {
          "base_uri": "https://localhost:8080/",
          "height": 35
        },
        "outputId": "834b7c77-171c-4ab2-b37d-2f0e2746fae8"
      },
      "source": [
        "df_new.shape"
      ],
      "execution_count": null,
      "outputs": [
        {
          "output_type": "execute_result",
          "data": {
            "text/plain": [
              "(101766, 50)"
            ]
          },
          "metadata": {
            "tags": []
          },
          "execution_count": 15
        }
      ]
    },
    {
      "cell_type": "code",
      "metadata": {
        "id": "dBVSd5Plgy97",
        "colab_type": "code",
        "colab": {}
      },
      "source": [
        "df_new.replace('?',np.nan,inplace=True)"
      ],
      "execution_count": null,
      "outputs": []
    },
    {
      "cell_type": "code",
      "metadata": {
        "id": "cMzI-VMag4NF",
        "colab_type": "code",
        "colab": {}
      },
      "source": [
        "df_test=df_new.drop(['weight','payer_code','medical_specialty'],axis=1)"
      ],
      "execution_count": null,
      "outputs": []
    },
    {
      "cell_type": "code",
      "metadata": {
        "id": "ptoCam2-hY3D",
        "colab_type": "code",
        "colab": {
          "base_uri": "https://localhost:8080/",
          "height": 35
        },
        "outputId": "5826c339-8aa8-477c-95a6-0479da2112c2"
      },
      "source": [
        "df_test.shape"
      ],
      "execution_count": null,
      "outputs": [
        {
          "output_type": "execute_result",
          "data": {
            "text/plain": [
              "(101766, 47)"
            ]
          },
          "metadata": {
            "tags": []
          },
          "execution_count": 18
        }
      ]
    },
    {
      "cell_type": "code",
      "metadata": {
        "id": "br0v5lkqheiC",
        "colab_type": "code",
        "colab": {}
      },
      "source": [
        "df_test['race']=df_test.race.replace(np.nan,'?')"
      ],
      "execution_count": null,
      "outputs": []
    },
    {
      "cell_type": "code",
      "metadata": {
        "id": "VqHeaHxFhm99",
        "colab_type": "code",
        "colab": {
          "base_uri": "https://localhost:8080/",
          "height": 139
        },
        "outputId": "3d50ca1d-3ef5-4faa-8c42-8a6daf90e422"
      },
      "source": [
        "df_test[\"race\"].value_counts()"
      ],
      "execution_count": null,
      "outputs": [
        {
          "output_type": "execute_result",
          "data": {
            "text/plain": [
              "Caucasian          76099\n",
              "AfricanAmerican    19210\n",
              "?                   2273\n",
              "Hispanic            2037\n",
              "Other               1506\n",
              "Asian                641\n",
              "Name: race, dtype: int64"
            ]
          },
          "metadata": {
            "tags": []
          },
          "execution_count": 20
        }
      ]
    },
    {
      "cell_type": "code",
      "metadata": {
        "id": "3gs4rXKdhwRv",
        "colab_type": "code",
        "colab": {
          "base_uri": "https://localhost:8080/",
          "height": 52
        },
        "outputId": "8fc96ee5-14bc-44e5-effc-730f9ffea9a3"
      },
      "source": [
        "df_test[\"race\"].mode()"
      ],
      "execution_count": null,
      "outputs": [
        {
          "output_type": "execute_result",
          "data": {
            "text/plain": [
              "0    Caucasian\n",
              "dtype: object"
            ]
          },
          "metadata": {
            "tags": []
          },
          "execution_count": 21
        }
      ]
    },
    {
      "cell_type": "code",
      "metadata": {
        "id": "H8DvbyRBhscr",
        "colab_type": "code",
        "colab": {}
      },
      "source": [
        "df_test['race']=df_test.race.replace('?','Caucasian')"
      ],
      "execution_count": null,
      "outputs": []
    },
    {
      "cell_type": "code",
      "metadata": {
        "id": "MJ3K4T1oh1Iq",
        "colab_type": "code",
        "colab": {}
      },
      "source": [
        " df_test = df_test.drop(['diag_1','diag_2','diag_3'],axis = 1)"
      ],
      "execution_count": null,
      "outputs": []
    },
    {
      "cell_type": "code",
      "metadata": {
        "id": "QhPPQAA8h6xy",
        "colab_type": "code",
        "colab": {
          "base_uri": "https://localhost:8080/",
          "height": 35
        },
        "outputId": "55cad349-7ca1-464d-9711-65f5ba804212"
      },
      "source": [
        "df_test.shape"
      ],
      "execution_count": null,
      "outputs": [
        {
          "output_type": "execute_result",
          "data": {
            "text/plain": [
              "(101766, 44)"
            ]
          },
          "metadata": {
            "tags": []
          },
          "execution_count": 24
        }
      ]
    },
    {
      "cell_type": "code",
      "metadata": {
        "id": "p3SEgyjWh9LS",
        "colab_type": "code",
        "colab": {
          "base_uri": "https://localhost:8080/",
          "height": 35
        },
        "outputId": "fe4b530c-6898-4857-baae-7c0dc70c387f"
      },
      "source": [
        "df_test=df_test[~df_test.discharge_disposition_id.isin([11,13,14,19,20,21])]\n",
        "df_test.shape"
      ],
      "execution_count": null,
      "outputs": [
        {
          "output_type": "execute_result",
          "data": {
            "text/plain": [
              "(99343, 44)"
            ]
          },
          "metadata": {
            "tags": []
          },
          "execution_count": 25
        }
      ]
    },
    {
      "cell_type": "code",
      "metadata": {
        "id": "6d7CFUAniDs5",
        "colab_type": "code",
        "colab": {
          "base_uri": "https://localhost:8080/",
          "height": 69
        },
        "outputId": "8870d71c-4de3-454d-fd45-9f35fe393789"
      },
      "source": [
        "df_test['diabetesMed'].value_counts()"
      ],
      "execution_count": null,
      "outputs": [
        {
          "output_type": "execute_result",
          "data": {
            "text/plain": [
              "Yes    76719\n",
              "No     22624\n",
              "Name: diabetesMed, dtype: int64"
            ]
          },
          "metadata": {
            "tags": []
          },
          "execution_count": 26
        }
      ]
    },
    {
      "cell_type": "code",
      "metadata": {
        "id": "HxooJQkUiHmc",
        "colab_type": "code",
        "colab": {
          "base_uri": "https://localhost:8080/",
          "height": 35
        },
        "outputId": "926f757e-6a90-418a-ab1f-0b7e10c425f4"
      },
      "source": [
        "df_test=df_test[df_test['diabetesMed']=='Yes']\n",
        "df_test.shape"
      ],
      "execution_count": null,
      "outputs": [
        {
          "output_type": "execute_result",
          "data": {
            "text/plain": [
              "(76719, 44)"
            ]
          },
          "metadata": {
            "tags": []
          },
          "execution_count": 27
        }
      ]
    },
    {
      "cell_type": "code",
      "metadata": {
        "id": "dLh4ZOctiLk8",
        "colab_type": "code",
        "colab": {
          "base_uri": "https://localhost:8080/",
          "height": 35
        },
        "outputId": "f7c53025-59b2-47aa-f16d-d0f66c8e1bd0"
      },
      "source": [
        "df_test=df_test[df_test['readmitted']=='NO']\n",
        "df_test.shape"
      ],
      "execution_count": null,
      "outputs": [
        {
          "output_type": "execute_result",
          "data": {
            "text/plain": [
              "(39355, 44)"
            ]
          },
          "metadata": {
            "tags": []
          },
          "execution_count": 28
        }
      ]
    },
    {
      "cell_type": "code",
      "metadata": {
        "id": "pLiqwJ1uiQlf",
        "colab_type": "code",
        "colab": {}
      },
      "source": [
        "target = df_test[['encounter_id','metformin', 'repaglinide', 'nateglinide',\n",
        "       'chlorpropamide', 'glimepiride', 'acetohexamide', 'glipizide',\n",
        "       'glyburide', 'tolbutamide', 'pioglitazone', 'rosiglitazone', 'acarbose',\n",
        "       'miglitol', 'troglitazone', 'tolazamide', 'examide', 'citoglipton',\n",
        "       'insulin', 'glyburide-metformin', 'glipizide-metformin',\n",
        "       'glimepiride-pioglitazone', 'metformin-rosiglitazone',\n",
        "       'metformin-pioglitazone']]"
      ],
      "execution_count": null,
      "outputs": []
    },
    {
      "cell_type": "code",
      "metadata": {
        "id": "4gUWDE_zj0Eq",
        "colab_type": "code",
        "colab": {
          "base_uri": "https://localhost:8080/",
          "height": 1000
        },
        "outputId": "291de100-30f3-4023-a205-6bd5ea2e38a4"
      },
      "source": [
        "for features in target.columns:\n",
        "    a=target[features].value_counts()\n",
        "    print(a)"
      ],
      "execution_count": null,
      "outputs": [
        {
          "output_type": "stream",
          "text": [
            "116046918    1\n",
            "136197984    1\n",
            "148022622    1\n",
            "255832266    1\n",
            "63079770     1\n",
            "            ..\n",
            "92851494     1\n",
            "98425422     1\n",
            "103559976    1\n",
            "151112268    1\n",
            "77856768     1\n",
            "Name: encounter_id, Length: 39355, dtype: int64\n",
            "No        28151\n",
            "Steady    10261\n",
            "Up          628\n",
            "Down        315\n",
            "Name: metformin, dtype: int64\n",
            "No        38682\n",
            "Steady      598\n",
            "Up           54\n",
            "Down         21\n",
            "Name: repaglinide, dtype: int64\n",
            "No        39008\n",
            "Steady      328\n",
            "Up           13\n",
            "Down          6\n",
            "Name: nateglinide, dtype: int64\n",
            "No        39309\n",
            "Steady       44\n",
            "Up            1\n",
            "Down          1\n",
            "Name: chlorpropamide, dtype: int64\n",
            "No        36667\n",
            "Steady     2406\n",
            "Up          183\n",
            "Down         99\n",
            "Name: glimepiride, dtype: int64\n",
            "No    39355\n",
            "Name: acetohexamide, dtype: int64\n",
            "No        32998\n",
            "Steady     5725\n",
            "Up          379\n",
            "Down        253\n",
            "Name: glipizide, dtype: int64\n",
            "No        33676\n",
            "Steady     4952\n",
            "Up          442\n",
            "Down        285\n",
            "Name: glyburide, dtype: int64\n",
            "No        39342\n",
            "Steady       13\n",
            "Name: tolbutamide, dtype: int64\n",
            "No        35628\n",
            "Steady     3564\n",
            "Up          109\n",
            "Down         54\n",
            "Name: pioglitazone, dtype: int64\n",
            "No        36123\n",
            "Steady     3074\n",
            "Up          100\n",
            "Down         58\n",
            "Name: rosiglitazone, dtype: int64\n",
            "No        39233\n",
            "Steady      117\n",
            "Up            4\n",
            "Down          1\n",
            "Name: acarbose, dtype: int64\n",
            "No        39341\n",
            "Steady       13\n",
            "Up            1\n",
            "Name: miglitol, dtype: int64\n",
            "No        39354\n",
            "Steady        1\n",
            "Name: troglitazone, dtype: int64\n",
            "No        39329\n",
            "Steady       26\n",
            "Name: tolazamide, dtype: int64\n",
            "No    39355\n",
            "Name: examide, dtype: int64\n",
            "No    39355\n",
            "Name: citoglipton, dtype: int64\n",
            "Steady    16181\n",
            "No        12535\n",
            "Down       5471\n",
            "Up         5168\n",
            "Name: insulin, dtype: int64\n",
            "No        38993\n",
            "Steady      350\n",
            "Up            7\n",
            "Down          5\n",
            "Name: glyburide-metformin, dtype: int64\n",
            "No        39350\n",
            "Steady        5\n",
            "Name: glipizide-metformin, dtype: int64\n",
            "No    39355\n",
            "Name: glimepiride-pioglitazone, dtype: int64\n",
            "No        39353\n",
            "Steady        2\n",
            "Name: metformin-rosiglitazone, dtype: int64\n",
            "No        39354\n",
            "Steady        1\n",
            "Name: metformin-pioglitazone, dtype: int64\n"
          ],
          "name": "stdout"
        }
      ]
    },
    {
      "cell_type": "code",
      "metadata": {
        "id": "HAo9RVHAiZfX",
        "colab_type": "code",
        "colab": {
          "base_uri": "https://localhost:8080/",
          "height": 35
        },
        "outputId": "205d7308-11f9-42be-c096-d4a0f87c8ab7"
      },
      "source": [
        "target.shape"
      ],
      "execution_count": null,
      "outputs": [
        {
          "output_type": "execute_result",
          "data": {
            "text/plain": [
              "(39355, 24)"
            ]
          },
          "metadata": {
            "tags": []
          },
          "execution_count": 31
        }
      ]
    },
    {
      "cell_type": "code",
      "metadata": {
        "id": "CiArPwNZpJSo",
        "colab_type": "code",
        "colab": {}
      },
      "source": [
        ""
      ],
      "execution_count": null,
      "outputs": []
    },
    {
      "cell_type": "code",
      "metadata": {
        "id": "pJIscOA-iglV",
        "colab_type": "code",
        "colab": {}
      },
      "source": [
        "target.set_index('encounter_id',inplace=True)"
      ],
      "execution_count": null,
      "outputs": []
    },
    {
      "cell_type": "code",
      "metadata": {
        "id": "SZaS1GnyjBbm",
        "colab_type": "code",
        "colab": {
          "base_uri": "https://localhost:8080/",
          "height": 754
        },
        "outputId": "07cb7996-3657-4554-b4f7-1d0b9bc19ff4"
      },
      "source": [
        "target=target.replace(['No','Steady','Up','Down'],[0,1,1,1])\n",
        "target.head().T"
      ],
      "execution_count": null,
      "outputs": [
        {
          "output_type": "execute_result",
          "data": {
            "text/html": [
              "<div>\n",
              "<style scoped>\n",
              "    .dataframe tbody tr th:only-of-type {\n",
              "        vertical-align: middle;\n",
              "    }\n",
              "\n",
              "    .dataframe tbody tr th {\n",
              "        vertical-align: top;\n",
              "    }\n",
              "\n",
              "    .dataframe thead th {\n",
              "        text-align: right;\n",
              "    }\n",
              "</style>\n",
              "<table border=\"1\" class=\"dataframe\">\n",
              "  <thead>\n",
              "    <tr style=\"text-align: right;\">\n",
              "      <th>encounter_id</th>\n",
              "      <th>64410</th>\n",
              "      <th>500364</th>\n",
              "      <th>16680</th>\n",
              "      <th>55842</th>\n",
              "      <th>12522</th>\n",
              "    </tr>\n",
              "  </thead>\n",
              "  <tbody>\n",
              "    <tr>\n",
              "      <th>metformin</th>\n",
              "      <td>0</td>\n",
              "      <td>0</td>\n",
              "      <td>0</td>\n",
              "      <td>1</td>\n",
              "      <td>0</td>\n",
              "    </tr>\n",
              "    <tr>\n",
              "      <th>repaglinide</th>\n",
              "      <td>0</td>\n",
              "      <td>0</td>\n",
              "      <td>0</td>\n",
              "      <td>0</td>\n",
              "      <td>0</td>\n",
              "    </tr>\n",
              "    <tr>\n",
              "      <th>nateglinide</th>\n",
              "      <td>0</td>\n",
              "      <td>0</td>\n",
              "      <td>0</td>\n",
              "      <td>0</td>\n",
              "      <td>0</td>\n",
              "    </tr>\n",
              "    <tr>\n",
              "      <th>chlorpropamide</th>\n",
              "      <td>0</td>\n",
              "      <td>0</td>\n",
              "      <td>0</td>\n",
              "      <td>0</td>\n",
              "      <td>0</td>\n",
              "    </tr>\n",
              "    <tr>\n",
              "      <th>glimepiride</th>\n",
              "      <td>0</td>\n",
              "      <td>0</td>\n",
              "      <td>0</td>\n",
              "      <td>1</td>\n",
              "      <td>0</td>\n",
              "    </tr>\n",
              "    <tr>\n",
              "      <th>acetohexamide</th>\n",
              "      <td>0</td>\n",
              "      <td>0</td>\n",
              "      <td>0</td>\n",
              "      <td>0</td>\n",
              "      <td>0</td>\n",
              "    </tr>\n",
              "    <tr>\n",
              "      <th>glipizide</th>\n",
              "      <td>1</td>\n",
              "      <td>0</td>\n",
              "      <td>1</td>\n",
              "      <td>0</td>\n",
              "      <td>1</td>\n",
              "    </tr>\n",
              "    <tr>\n",
              "      <th>glyburide</th>\n",
              "      <td>0</td>\n",
              "      <td>0</td>\n",
              "      <td>0</td>\n",
              "      <td>0</td>\n",
              "      <td>0</td>\n",
              "    </tr>\n",
              "    <tr>\n",
              "      <th>tolbutamide</th>\n",
              "      <td>0</td>\n",
              "      <td>0</td>\n",
              "      <td>0</td>\n",
              "      <td>0</td>\n",
              "      <td>0</td>\n",
              "    </tr>\n",
              "    <tr>\n",
              "      <th>pioglitazone</th>\n",
              "      <td>0</td>\n",
              "      <td>0</td>\n",
              "      <td>0</td>\n",
              "      <td>0</td>\n",
              "      <td>0</td>\n",
              "    </tr>\n",
              "    <tr>\n",
              "      <th>rosiglitazone</th>\n",
              "      <td>0</td>\n",
              "      <td>0</td>\n",
              "      <td>0</td>\n",
              "      <td>0</td>\n",
              "      <td>0</td>\n",
              "    </tr>\n",
              "    <tr>\n",
              "      <th>acarbose</th>\n",
              "      <td>0</td>\n",
              "      <td>0</td>\n",
              "      <td>0</td>\n",
              "      <td>0</td>\n",
              "      <td>0</td>\n",
              "    </tr>\n",
              "    <tr>\n",
              "      <th>miglitol</th>\n",
              "      <td>0</td>\n",
              "      <td>0</td>\n",
              "      <td>0</td>\n",
              "      <td>0</td>\n",
              "      <td>0</td>\n",
              "    </tr>\n",
              "    <tr>\n",
              "      <th>troglitazone</th>\n",
              "      <td>0</td>\n",
              "      <td>0</td>\n",
              "      <td>0</td>\n",
              "      <td>0</td>\n",
              "      <td>0</td>\n",
              "    </tr>\n",
              "    <tr>\n",
              "      <th>tolazamide</th>\n",
              "      <td>0</td>\n",
              "      <td>0</td>\n",
              "      <td>0</td>\n",
              "      <td>0</td>\n",
              "      <td>0</td>\n",
              "    </tr>\n",
              "    <tr>\n",
              "      <th>examide</th>\n",
              "      <td>0</td>\n",
              "      <td>0</td>\n",
              "      <td>0</td>\n",
              "      <td>0</td>\n",
              "      <td>0</td>\n",
              "    </tr>\n",
              "    <tr>\n",
              "      <th>citoglipton</th>\n",
              "      <td>0</td>\n",
              "      <td>0</td>\n",
              "      <td>0</td>\n",
              "      <td>0</td>\n",
              "      <td>0</td>\n",
              "    </tr>\n",
              "    <tr>\n",
              "      <th>insulin</th>\n",
              "      <td>0</td>\n",
              "      <td>1</td>\n",
              "      <td>1</td>\n",
              "      <td>1</td>\n",
              "      <td>1</td>\n",
              "    </tr>\n",
              "    <tr>\n",
              "      <th>glyburide-metformin</th>\n",
              "      <td>0</td>\n",
              "      <td>0</td>\n",
              "      <td>0</td>\n",
              "      <td>0</td>\n",
              "      <td>0</td>\n",
              "    </tr>\n",
              "    <tr>\n",
              "      <th>glipizide-metformin</th>\n",
              "      <td>0</td>\n",
              "      <td>0</td>\n",
              "      <td>0</td>\n",
              "      <td>0</td>\n",
              "      <td>0</td>\n",
              "    </tr>\n",
              "    <tr>\n",
              "      <th>glimepiride-pioglitazone</th>\n",
              "      <td>0</td>\n",
              "      <td>0</td>\n",
              "      <td>0</td>\n",
              "      <td>0</td>\n",
              "      <td>0</td>\n",
              "    </tr>\n",
              "    <tr>\n",
              "      <th>metformin-rosiglitazone</th>\n",
              "      <td>0</td>\n",
              "      <td>0</td>\n",
              "      <td>0</td>\n",
              "      <td>0</td>\n",
              "      <td>0</td>\n",
              "    </tr>\n",
              "    <tr>\n",
              "      <th>metformin-pioglitazone</th>\n",
              "      <td>0</td>\n",
              "      <td>0</td>\n",
              "      <td>0</td>\n",
              "      <td>0</td>\n",
              "      <td>0</td>\n",
              "    </tr>\n",
              "  </tbody>\n",
              "</table>\n",
              "</div>"
            ],
            "text/plain": [
              "encounter_id              64410   500364  16680   55842   12522 \n",
              "metformin                      0       0       0       1       0\n",
              "repaglinide                    0       0       0       0       0\n",
              "nateglinide                    0       0       0       0       0\n",
              "chlorpropamide                 0       0       0       0       0\n",
              "glimepiride                    0       0       0       1       0\n",
              "acetohexamide                  0       0       0       0       0\n",
              "glipizide                      1       0       1       0       1\n",
              "glyburide                      0       0       0       0       0\n",
              "tolbutamide                    0       0       0       0       0\n",
              "pioglitazone                   0       0       0       0       0\n",
              "rosiglitazone                  0       0       0       0       0\n",
              "acarbose                       0       0       0       0       0\n",
              "miglitol                       0       0       0       0       0\n",
              "troglitazone                   0       0       0       0       0\n",
              "tolazamide                     0       0       0       0       0\n",
              "examide                        0       0       0       0       0\n",
              "citoglipton                    0       0       0       0       0\n",
              "insulin                        0       1       1       1       1\n",
              "glyburide-metformin            0       0       0       0       0\n",
              "glipizide-metformin            0       0       0       0       0\n",
              "glimepiride-pioglitazone       0       0       0       0       0\n",
              "metformin-rosiglitazone        0       0       0       0       0\n",
              "metformin-pioglitazone         0       0       0       0       0"
            ]
          },
          "metadata": {
            "tags": []
          },
          "execution_count": 33
        }
      ]
    },
    {
      "cell_type": "code",
      "metadata": {
        "id": "iTrhx-KFjQyn",
        "colab_type": "code",
        "colab": {
          "base_uri": "https://localhost:8080/",
          "height": 139
        },
        "outputId": "cc347f7c-5149-4ce3-8611-3e267e6180ce"
      },
      "source": [
        "target[target['insulin']==1].sum(axis = 1).value_counts()"
      ],
      "execution_count": null,
      "outputs": [
        {
          "output_type": "execute_result",
          "data": {
            "text/plain": [
              "1    14675\n",
              "2     7906\n",
              "3     3491\n",
              "4      709\n",
              "5       38\n",
              "6        1\n",
              "dtype: int64"
            ]
          },
          "metadata": {
            "tags": []
          },
          "execution_count": 34
        }
      ]
    },
    {
      "cell_type": "code",
      "metadata": {
        "id": "DeXwFYjOk16n",
        "colab_type": "code",
        "colab": {}
      },
      "source": [
        "insulin1= target[target['insulin']==1].sum(axis = 1).replace([1,2,3,4,5,6],['insulin','iwo','iwo','iwo','iwo','iwo'])"
      ],
      "execution_count": null,
      "outputs": []
    },
    {
      "cell_type": "code",
      "metadata": {
        "id": "AL1rErrLk8Be",
        "colab_type": "code",
        "colab": {
          "base_uri": "https://localhost:8080/",
          "height": 69
        },
        "outputId": "59c03ecf-02de-4523-d87f-70f41eac2357"
      },
      "source": [
        "insulin1.value_counts()"
      ],
      "execution_count": null,
      "outputs": [
        {
          "output_type": "execute_result",
          "data": {
            "text/plain": [
              "insulin    14675\n",
              "iwo        12145\n",
              "dtype: int64"
            ]
          },
          "metadata": {
            "tags": []
          },
          "execution_count": 36
        }
      ]
    },
    {
      "cell_type": "code",
      "metadata": {
        "id": "0BDXUNG_k_w0",
        "colab_type": "code",
        "colab": {
          "base_uri": "https://localhost:8080/",
          "height": 121
        },
        "outputId": "4636f06b-472c-4b78-fba0-607c39e8c301"
      },
      "source": [
        "target[target['insulin']==0].sum(axis = 1).value_counts()"
      ],
      "execution_count": null,
      "outputs": [
        {
          "output_type": "execute_result",
          "data": {
            "text/plain": [
              "1    8405\n",
              "2    3491\n",
              "3     617\n",
              "4      21\n",
              "5       1\n",
              "dtype: int64"
            ]
          },
          "metadata": {
            "tags": []
          },
          "execution_count": 37
        }
      ]
    },
    {
      "cell_type": "code",
      "metadata": {
        "id": "HZg5XGIglcbT",
        "colab_type": "code",
        "colab": {}
      },
      "source": [
        "insulin0=target[target['insulin']==0].sum(axis=1).replace([0,1,2,3,4,5,6],['no med','other','other','other','other','other','other'])"
      ],
      "execution_count": null,
      "outputs": []
    },
    {
      "cell_type": "code",
      "metadata": {
        "id": "629-dtDNlECw",
        "colab_type": "code",
        "colab": {}
      },
      "source": [
        "target=pd.concat([insulin1,insulin0])\n",
        "target=pd.DataFrame({'target':target})"
      ],
      "execution_count": null,
      "outputs": []
    },
    {
      "cell_type": "code",
      "metadata": {
        "id": "MT1Vx-RylRVf",
        "colab_type": "code",
        "colab": {}
      },
      "source": [
        "df_test_model=df_test.join(target,on='encounter_id') "
      ],
      "execution_count": null,
      "outputs": []
    },
    {
      "cell_type": "code",
      "metadata": {
        "id": "h416rf1FlrLL",
        "colab_type": "code",
        "colab": {}
      },
      "source": [
        "df_test_model = df_test_model.drop(['metformin', 'repaglinide', 'nateglinide',\n",
        "       'chlorpropamide', 'glimepiride', 'acetohexamide', 'glipizide',\n",
        "       'glyburide', 'tolbutamide', 'pioglitazone', 'rosiglitazone', 'acarbose',\n",
        "       'miglitol', 'troglitazone', 'tolazamide', 'examide', 'citoglipton',\n",
        "       'insulin', 'glyburide-metformin', 'glipizide-metformin',\n",
        "       'glimepiride-pioglitazone', 'metformin-rosiglitazone',\n",
        "       'metformin-pioglitazone'],axis=1)"
      ],
      "execution_count": null,
      "outputs": []
    },
    {
      "cell_type": "code",
      "metadata": {
        "id": "tfze4oIsmgqx",
        "colab_type": "code",
        "colab": {
          "base_uri": "https://localhost:8080/",
          "height": 69
        },
        "outputId": "dfd21a47-a715-4076-ab4b-cf1c01842f88"
      },
      "source": [
        "df_test_model2=df_test_model[df_test_model['target']!='other']\n",
        "df_test_model2['target'].value_counts()"
      ],
      "execution_count": null,
      "outputs": [
        {
          "output_type": "execute_result",
          "data": {
            "text/plain": [
              "insulin    14675\n",
              "iwo        12145\n",
              "Name: target, dtype: int64"
            ]
          },
          "metadata": {
            "tags": []
          },
          "execution_count": 42
        }
      ]
    },
    {
      "cell_type": "code",
      "metadata": {
        "id": "Gs9sk41onfQ4",
        "colab_type": "code",
        "colab": {}
      },
      "source": [
        "df_test_model2= df_test_model2.drop(['diabetesMed','readmitted'],axis=1)"
      ],
      "execution_count": null,
      "outputs": []
    },
    {
      "cell_type": "code",
      "metadata": {
        "id": "GHRA8VUcp6mi",
        "colab_type": "code",
        "colab": {}
      },
      "source": [
        "a=['race', 'gender','max_glu_serum', 'A1Cresult', 'change']\n",
        "df_test_model3=pd.get_dummies(data=df_test_model2,columns=a)"
      ],
      "execution_count": null,
      "outputs": []
    },
    {
      "cell_type": "code",
      "metadata": {
        "id": "jxPtss9Sp_Dx",
        "colab_type": "code",
        "colab": {
          "base_uri": "https://localhost:8080/",
          "height": 69
        },
        "outputId": "ebf46612-168e-4151-952b-abf50870b73d"
      },
      "source": [
        "df_test_model3['target'].value_counts()"
      ],
      "execution_count": null,
      "outputs": [
        {
          "output_type": "execute_result",
          "data": {
            "text/plain": [
              "insulin    14675\n",
              "iwo        12145\n",
              "Name: target, dtype: int64"
            ]
          },
          "metadata": {
            "tags": []
          },
          "execution_count": 45
        }
      ]
    },
    {
      "cell_type": "code",
      "metadata": {
        "id": "WZAJ2ZG5qEl0",
        "colab_type": "code",
        "colab": {}
      },
      "source": [
        "df_test_model3['target'].replace({'insulin':1,'iwo':0},inplace=True)"
      ],
      "execution_count": null,
      "outputs": []
    },
    {
      "cell_type": "code",
      "metadata": {
        "id": "H4UrTp21qId-",
        "colab_type": "code",
        "colab": {}
      },
      "source": [
        "from sklearn import preprocessing \n",
        "label_encoder = preprocessing.LabelEncoder() \n",
        "df_test_model3['age'] = label_encoder.fit_transform(df_test_model3['age'])"
      ],
      "execution_count": null,
      "outputs": []
    },
    {
      "cell_type": "code",
      "metadata": {
        "id": "ZH8FM_pkqNhw",
        "colab_type": "code",
        "colab": {}
      },
      "source": [
        "df_data=df_test_model3"
      ],
      "execution_count": null,
      "outputs": []
    },
    {
      "cell_type": "code",
      "metadata": {
        "id": "DqMGOTFAqc-6",
        "colab_type": "code",
        "colab": {
          "base_uri": "https://localhost:8080/",
          "height": 191
        },
        "outputId": "6ed7dcc9-7481-4310-badd-7541fc4f749c"
      },
      "source": [
        "df_data.columns"
      ],
      "execution_count": null,
      "outputs": [
        {
          "output_type": "execute_result",
          "data": {
            "text/plain": [
              "Index(['encounter_id', 'patient_nbr', 'number_diagnoses', 'num_lab_procedures',\n",
              "       'num_procedures', 'num_medications', 'number_outpatient',\n",
              "       'number_emergency', 'number_inpatient', 'age', 'admission_type_id',\n",
              "       'discharge_disposition_id', 'admission_source_id', 'time_in_hospital',\n",
              "       'target', 'race_AfricanAmerican', 'race_Asian', 'race_Caucasian',\n",
              "       'race_Hispanic', 'race_Other', 'gender_Female', 'gender_Male',\n",
              "       'max_glu_serum_>200', 'max_glu_serum_>300', 'max_glu_serum_None',\n",
              "       'max_glu_serum_Norm', 'A1Cresult_>7', 'A1Cresult_>8', 'A1Cresult_None',\n",
              "       'A1Cresult_Norm', 'change_Ch', 'change_No'],\n",
              "      dtype='object')"
            ]
          },
          "metadata": {
            "tags": []
          },
          "execution_count": 49
        }
      ]
    },
    {
      "cell_type": "code",
      "metadata": {
        "id": "7uJfgXbqLGkI",
        "colab_type": "code",
        "colab": {}
      },
      "source": [
        "df_data= df_data.drop(['encounter_id','patient_nbr','num_lab_procedures','number_outpatient','number_emergency','number_diagnoses',\n",
        "           'num_procedures','num_medications','number_inpatient','admission_type_id','discharge_disposition_id',\n",
        "           'admission_source_id','time_in_hospital'],axis=1)\n"
      ],
      "execution_count": null,
      "outputs": []
    },
    {
      "cell_type": "code",
      "metadata": {
        "id": "uNLxnPYptD6x",
        "colab_type": "code",
        "colab": {
          "base_uri": "https://localhost:8080/",
          "height": 364
        },
        "outputId": "1e2f88a0-9604-454d-f827-4784797cc08d"
      },
      "source": [
        "from scipy.stats import chi2_contingency\n",
        "features=[]\n",
        "for i in df_data.columns:\n",
        "   pvalue=0    \n",
        "   cross=pd.crosstab(df_data[\"target\"],df_data[i])\n",
        "   pvalue=chi2_contingency(cross)[1]\n",
        "   print(\"CHI\",i,pvalue)\n",
        "   if pvalue>0.01:\n",
        "           features.append(i)\n",
        "print(features)"
      ],
      "execution_count": null,
      "outputs": [
        {
          "output_type": "stream",
          "text": [
            "CHI age 2.775114068540062e-131\n",
            "CHI target 0.0\n",
            "CHI race_AfricanAmerican 1.331904726484493e-09\n",
            "CHI race_Asian 0.1119014464869679\n",
            "CHI race_Caucasian 1.5390422004810406e-05\n",
            "CHI race_Hispanic 0.006062667139464667\n",
            "CHI race_Other 0.8695499577910514\n",
            "CHI gender_Female 0.0007455878902077142\n",
            "CHI gender_Male 0.0007455878902077154\n",
            "CHI max_glu_serum_>200 0.18633685955737114\n",
            "CHI max_glu_serum_>300 0.0020671822251822998\n",
            "CHI max_glu_serum_None 1.0928475739184751e-06\n",
            "CHI max_glu_serum_Norm 0.00014929596365574938\n",
            "CHI A1Cresult_>7 8.760827139666277e-05\n",
            "CHI A1Cresult_>8 0.0666449616185189\n",
            "CHI A1Cresult_None 0.005391495453234729\n",
            "CHI A1Cresult_Norm 0.29409612237295135\n",
            "CHI change_Ch 0.0\n",
            "CHI change_No 0.0\n",
            "['race_Asian', 'race_Other', 'max_glu_serum_>200', 'A1Cresult_>8', 'A1Cresult_Norm']\n"
          ],
          "name": "stdout"
        }
      ]
    },
    {
      "cell_type": "code",
      "metadata": {
        "id": "OGH6PfB2qy3M",
        "colab_type": "code",
        "colab": {}
      },
      "source": [
        "x= df_data.drop(['race_Asian','race_Other','max_glu_serum_>200','A1Cresult_>8','A1Cresult_Norm','target'],axis=1)\n",
        "y= df_data[['target']]"
      ],
      "execution_count": null,
      "outputs": []
    },
    {
      "cell_type": "code",
      "metadata": {
        "id": "C1vIfe6LwTsy",
        "colab_type": "code",
        "colab": {}
      },
      "source": [
        "from sklearn.model_selection import GridSearchCV\n",
        "from sklearn.neighbors import KNeighborsClassifier\n",
        "from sklearn.tree import DecisionTreeClassifier\n",
        "from sklearn.linear_model import LogisticRegression\n",
        "from sklearn.ensemble import RandomForestClassifier\n",
        "from sklearn.naive_bayes import GaussianNB\n",
        "from sklearn import model_selection\n",
        "from sklearn.model_selection import KFold, cross_val_score\n",
        "import matplotlib.pyplot as plt\n",
        "from sklearn.ensemble import BaggingClassifier\n",
        "from sklearn.ensemble import AdaBoostClassifier"
      ],
      "execution_count": null,
      "outputs": []
    },
    {
      "cell_type": "code",
      "metadata": {
        "id": "Vkr1DYRR_kXa",
        "colab_type": "code",
        "colab": {
          "base_uri": "https://localhost:8080/",
          "height": 243
        },
        "outputId": "3ebcd25f-765e-4d6d-dd69-244abc9311ff"
      },
      "source": [
        "knn=KNeighborsClassifier()\n",
        "\n",
        "param={\"n_neighbors\":np.arange(1,50),\"weights\":[\"uniform\",\"distance\"]}\n",
        "\n",
        "GS=GridSearchCV(knn,param,cv=15,scoring=\"roc_auc\")\n",
        "\n",
        "GS.fit(x,y)"
      ],
      "execution_count": null,
      "outputs": [
        {
          "output_type": "execute_result",
          "data": {
            "text/plain": [
              "GridSearchCV(cv=15, error_score='raise-deprecating',\n",
              "             estimator=KNeighborsClassifier(algorithm='auto', leaf_size=30,\n",
              "                                            metric='minkowski',\n",
              "                                            metric_params=None, n_jobs=None,\n",
              "                                            n_neighbors=5, p=2,\n",
              "                                            weights='uniform'),\n",
              "             iid='warn', n_jobs=None,\n",
              "             param_grid={'n_neighbors': array([ 1,  2,  3,  4,  5,  6,  7,  8,  9, 10, 11, 12, 13, 14, 15, 16, 17,\n",
              "       18, 19, 20, 21, 22, 23, 24, 25, 26, 27, 28, 29, 30, 31, 32, 33, 34,\n",
              "       35, 36, 37, 38, 39, 40, 41, 42, 43, 44, 45, 46, 47, 48, 49]),\n",
              "                         'weights': ['uniform', 'distance']},\n",
              "             pre_dispatch='2*n_jobs', refit=True, return_train_score=False,\n",
              "             scoring='roc_auc', verbose=0)"
            ]
          },
          "metadata": {
            "tags": []
          },
          "execution_count": 140
        }
      ]
    },
    {
      "cell_type": "code",
      "metadata": {
        "id": "S6Ct5rMKwgFl",
        "colab_type": "code",
        "colab": {
          "base_uri": "https://localhost:8080/",
          "height": 35
        },
        "outputId": "1359be02-17e8-40fc-8978-76cf83118cf7"
      },
      "source": [
        "GS.best_params_"
      ],
      "execution_count": null,
      "outputs": [
        {
          "output_type": "execute_result",
          "data": {
            "text/plain": [
              "{'n_neighbors': 46, 'weights': 'uniform'}"
            ]
          },
          "metadata": {
            "tags": []
          },
          "execution_count": 141
        }
      ]
    },
    {
      "cell_type": "code",
      "metadata": {
        "id": "n6dNdaqzyfge",
        "colab_type": "code",
        "colab": {
          "base_uri": "https://localhost:8080/",
          "height": 347
        },
        "outputId": "4df4a716-728c-4939-e348-49e9c41cd6c9"
      },
      "source": [
        "DT=DecisionTreeClassifier()\n",
        "par_dt={\"criterion\":[\"gini\",\"entropy\"],\"max_depth\":np.arange(1,50)}\n",
        "GS_dt=GridSearchCV(DT,par_dt,cv=15,scoring=\"roc_auc\")\n",
        "GS_dt.fit(x,y)"
      ],
      "execution_count": null,
      "outputs": [
        {
          "output_type": "execute_result",
          "data": {
            "text/plain": [
              "GridSearchCV(cv=15, error_score='raise-deprecating',\n",
              "             estimator=DecisionTreeClassifier(class_weight=None,\n",
              "                                              criterion='gini', max_depth=None,\n",
              "                                              max_features=None,\n",
              "                                              max_leaf_nodes=None,\n",
              "                                              min_impurity_decrease=0.0,\n",
              "                                              min_impurity_split=None,\n",
              "                                              min_samples_leaf=1,\n",
              "                                              min_samples_split=2,\n",
              "                                              min_weight_fraction_leaf=0.0,\n",
              "                                              presort=False, random_state=None,\n",
              "                                              splitter='best'),\n",
              "             iid='warn', n_jobs=None,\n",
              "             param_grid={'criterion': ['gini', 'entropy'],\n",
              "                         'max_depth': array([ 1,  2,  3,  4,  5,  6,  7,  8,  9, 10, 11, 12, 13, 14, 15, 16, 17,\n",
              "       18, 19, 20, 21, 22, 23, 24, 25, 26, 27, 28, 29, 30, 31, 32, 33, 34,\n",
              "       35, 36, 37, 38, 39, 40, 41, 42, 43, 44, 45, 46, 47, 48, 49])},\n",
              "             pre_dispatch='2*n_jobs', refit=True, return_train_score=False,\n",
              "             scoring='roc_auc', verbose=0)"
            ]
          },
          "metadata": {
            "tags": []
          },
          "execution_count": 135
        }
      ]
    },
    {
      "cell_type": "code",
      "metadata": {
        "id": "-NFVD51ZynTM",
        "colab_type": "code",
        "colab": {
          "base_uri": "https://localhost:8080/",
          "height": 35
        },
        "outputId": "c2396d30-2447-4495-88d2-a0121457a73d"
      },
      "source": [
        "GS_dt.best_params_"
      ],
      "execution_count": null,
      "outputs": [
        {
          "output_type": "execute_result",
          "data": {
            "text/plain": [
              "{'criterion': 'gini', 'max_depth': 6}"
            ]
          },
          "metadata": {
            "tags": []
          },
          "execution_count": 136
        }
      ]
    },
    {
      "cell_type": "code",
      "metadata": {
        "id": "Za4eSfnp0xRw",
        "colab_type": "code",
        "colab": {
          "base_uri": "https://localhost:8080/",
          "height": 364
        },
        "outputId": "469d0342-0da6-4c3e-90c3-06b40c8e7f64"
      },
      "source": [
        "RF=RandomForestClassifier()\n",
        "par_RF={\"n_estimators\":np.arange(1,100)}\n",
        "GS_RF=GridSearchCV(RF,par_RF,cv=15,scoring=\"roc_auc\")\n",
        "GS_RF.fit(x,y)"
      ],
      "execution_count": null,
      "outputs": [
        {
          "output_type": "execute_result",
          "data": {
            "text/plain": [
              "GridSearchCV(cv=15, error_score='raise-deprecating',\n",
              "             estimator=RandomForestClassifier(bootstrap=True, class_weight=None,\n",
              "                                              criterion='gini', max_depth=None,\n",
              "                                              max_features='auto',\n",
              "                                              max_leaf_nodes=None,\n",
              "                                              min_impurity_decrease=0.0,\n",
              "                                              min_impurity_split=None,\n",
              "                                              min_samples_leaf=1,\n",
              "                                              min_samples_split=2,\n",
              "                                              min_weight_fraction_leaf=0.0,\n",
              "                                              n_estimators='warn', n_jobs=None,\n",
              "                                              oob_score=F...\n",
              "             param_grid={'n_estimators': array([ 1,  2,  3,  4,  5,  6,  7,  8,  9, 10, 11, 12, 13, 14, 15, 16, 17,\n",
              "       18, 19, 20, 21, 22, 23, 24, 25, 26, 27, 28, 29, 30, 31, 32, 33, 34,\n",
              "       35, 36, 37, 38, 39, 40, 41, 42, 43, 44, 45, 46, 47, 48, 49, 50, 51,\n",
              "       52, 53, 54, 55, 56, 57, 58, 59, 60, 61, 62, 63, 64, 65, 66, 67, 68,\n",
              "       69, 70, 71, 72, 73, 74, 75, 76, 77, 78, 79, 80, 81, 82, 83, 84, 85,\n",
              "       86, 87, 88, 89, 90, 91, 92, 93, 94, 95, 96, 97, 98, 99])},\n",
              "             pre_dispatch='2*n_jobs', refit=True, return_train_score=False,\n",
              "             scoring='roc_auc', verbose=0)"
            ]
          },
          "metadata": {
            "tags": []
          },
          "execution_count": 142
        }
      ]
    },
    {
      "cell_type": "code",
      "metadata": {
        "id": "0Xn17Tmp2YF1",
        "colab_type": "code",
        "colab": {
          "base_uri": "https://localhost:8080/",
          "height": 35
        },
        "outputId": "38e73323-cfae-4fd0-e2aa-db616b7c9aa5"
      },
      "source": [
        "GS_RF.best_params_"
      ],
      "execution_count": null,
      "outputs": [
        {
          "output_type": "execute_result",
          "data": {
            "text/plain": [
              "{'n_estimators': 10}"
            ]
          },
          "metadata": {
            "tags": []
          },
          "execution_count": 139
        }
      ]
    },
    {
      "cell_type": "code",
      "metadata": {
        "id": "JzPjOsMxywt6",
        "colab_type": "code",
        "colab": {}
      },
      "source": [
        "LR=LogisticRegression()\n",
        "NB=GaussianNB()\n",
        "KNN_final=KNeighborsClassifier(n_neighbors=46,weights='uniform')\n",
        "DT=DecisionTreeClassifier(criterion='gini',random_state=0,max_depth=6)\n",
        "RF=RandomForestClassifier(n_estimators=10,random_state=0)\n",
        "KNN_bag=BaggingClassifier(base_estimator=KNN_final,n_estimators=10,random_state=0)\n",
        "LR_bag=BaggingClassifier(base_estimator=LR,n_estimators=10,random_state=0)\n",
        "NB_bag=BaggingClassifier(base_estimator=NB,n_estimators=10,random_state=0)\n",
        "DT_bag=BaggingClassifier(n_estimators=10,random_state=0)\n",
        "#boosting models\n",
        "LR_boost=AdaBoostClassifier(base_estimator=LR,n_estimators=300,random_state=0)\n",
        "DT_boost=AdaBoostClassifier(base_estimator=DT,n_estimators=50,random_state=0)\n",
        "RF_boost=AdaBoostClassifier(base_estimator=RF,n_estimators=50,random_state=0)\n",
        "NB_boost=AdaBoostClassifier(base_estimator=NB,n_estimators=50,random_state=0)"
      ],
      "execution_count": null,
      "outputs": []
    },
    {
      "cell_type": "code",
      "metadata": {
        "id": "r4Q9onCYzYSi",
        "colab_type": "code",
        "colab": {}
      },
      "source": [
        "models=[]\n",
        "models.append((\"Logistic\",LR))\n",
        "models.append((\"NaiveBayes\",NB))\n",
        "models.append((\"KNN_wv\",KNN_final))\n",
        "models.append((\"DT\",DT))\n",
        "models.append(('RF',RF))\n",
        "models.append(('BaggedkNN',KNN_bag))\n",
        "models.append(('BaggedLR',LR_bag))\n",
        "models.append((\"BaggedNB\",NB_bag))\n",
        "models.append((\"BaggedDT\",DT_bag))\n",
        "models.append((\"BoostLR\",LR_boost))\n",
        "models.append((\"BoostDT\",DT_boost))\n",
        "models.append((\"BoostRF\",RF_boost))\n",
        "models.append((\"BoostNB\",NB_boost))"
      ],
      "execution_count": null,
      "outputs": []
    },
    {
      "cell_type": "code",
      "metadata": {
        "id": "OY0YXE_2Z5ZM",
        "colab_type": "code",
        "colab": {
          "base_uri": "https://localhost:8080/",
          "height": 243
        },
        "outputId": "f48919df-fadd-4545-aff8-e2099b2abef6"
      },
      "source": [
        "results = []\n",
        "names = []\n",
        "\n",
        "for name, model in models:\n",
        "    kfold = model_selection.KFold(shuffle = True, n_splits = 15, random_state = 0)\n",
        "    cv_results = model_selection.cross_val_score(model,x,y,cv = kfold, scoring='roc_auc')\n",
        "    results.append(cv_results)\n",
        "    names.append(name)\n",
        "    print('NAME: {} ----- MEAN: {} ----- VAR: {} '.format(name,np.mean(cv_results),np.var(cv_results,ddof=1)))"
      ],
      "execution_count": null,
      "outputs": [
        {
          "output_type": "stream",
          "text": [
            "NAME: Logistic ----- MEAN: 0.813277988809967 ----- VAR: 0.00014242629696124872 \n",
            "NAME: NaiveBayes ----- MEAN: 0.8161995144178852 ----- VAR: 0.00010603041325761598 \n",
            "NAME: KNN_wv ----- MEAN: 0.8106244020792579 ----- VAR: 7.07963230976306e-05 \n",
            "NAME: DT ----- MEAN: 0.8160375881915182 ----- VAR: 8.843487536824112e-05 \n",
            "NAME: RF ----- MEAN: 0.8120282238524066 ----- VAR: 0.00010000714290338709 \n",
            "NAME: BaggedkNN ----- MEAN: 0.8129805225141566 ----- VAR: 8.600105985108864e-05 \n",
            "NAME: BaggedLR ----- MEAN: 0.813271773455344 ----- VAR: 0.00014117060396020344 \n",
            "NAME: BaggedNB ----- MEAN: 0.8159617009214787 ----- VAR: 0.00010561900722406522 \n",
            "NAME: BaggedDT ----- MEAN: 0.812000320893643 ----- VAR: 0.00010227021763932304 \n",
            "NAME: BoostLR ----- MEAN: 0.8105931215912143 ----- VAR: 0.0001435822080821858 \n",
            "NAME: BoostDT ----- MEAN: 0.8104880385938641 ----- VAR: 9.278746961416116e-05 \n",
            "NAME: BoostRF ----- MEAN: 0.8119101566755277 ----- VAR: 9.598961397466351e-05 \n",
            "NAME: BoostNB ----- MEAN: 0.7915251644016308 ----- VAR: 0.0002080394533939649 \n"
          ],
          "name": "stdout"
        }
      ]
    },
    {
      "cell_type": "code",
      "metadata": {
        "id": "q_kVvnX7IhWE",
        "colab_type": "code",
        "colab": {}
      },
      "source": [
        "from sklearn import metrics"
      ],
      "execution_count": null,
      "outputs": []
    },
    {
      "cell_type": "code",
      "metadata": {
        "id": "LgASol1bZ3jv",
        "colab_type": "code",
        "colab": {}
      },
      "source": [
        "from sklearn.model_selection import train_test_split\n",
        "x_train, x_test, y_train, y_test = train_test_split(x,y, test_size=0.3, random_state=0)\n"
      ],
      "execution_count": null,
      "outputs": []
    },
    {
      "cell_type": "code",
      "metadata": {
        "id": "-neUxoddlZdQ",
        "colab_type": "code",
        "colab": {
          "base_uri": "https://localhost:8080/",
          "height": 1000
        },
        "outputId": "c35b8faf-49eb-45c9-e680-64561e6f33ff"
      },
      "source": [
        "from sklearn.model_selection import train_test_split\n",
        "x_train, x_test, y_train, y_test = train_test_split(x,y, test_size=0.3, random_state=0)\n",
        "#models = ['LR','NB','DT']\n",
        "for name,model in models:\n",
        "  print(name)\n",
        "  model.fit(x_train,y_train)\n",
        "  y_predict_LR=model.predict(x_test)\n",
        "  accuracy_test =model.score(x_test,y_test)\n",
        "\n",
        "  print(\"Here is our mean accuracy on the test set:\\n {0:.3f}\"\\\n",
        "        .format(accuracy_test))\n",
        "  accuracy_train =model.score(x_train,y_train)\n",
        "\n",
        "  print(\"Here is our mean accuracy on the train set:\\n {0:.3f}\"\\\n",
        "        .format(accuracy_train))\n",
        "  confusion = metrics.confusion_matrix( y_predict_LR, y_test )\n",
        "  sns.heatmap(confusion, annot=True, fmt='d', cbar=False)\n",
        "  plt.xlabel('Predicted Values')\n",
        "  plt.ylabel('Actual Values')\n",
        "  plt.title('Actual vs. Predicted Confusion Matrix')\n",
        "  plt.show()\n",
        "  print()\n",
        "  print('CLASSIFICATION REPORT',classification_report(y_test, y_predict_LR))\n",
        "  print('--------------------------------------------------------')\n",
        "  print()"
      ],
      "execution_count": null,
      "outputs": [
        {
          "output_type": "stream",
          "text": [
            "Logistic\n",
            "Here is our mean accuracy on the test set:\n",
            " 0.772\n",
            "Here is our mean accuracy on the train set:\n",
            " 0.769\n"
          ],
          "name": "stdout"
        },
        {
          "output_type": "display_data",
          "data": {
            "image/png": "[encoded data removed]",
            "text/plain": [
              "<Figure size 432x288 with 1 Axes>"
            ]
          },
          "metadata": {
            "tags": []
          }
        },
        {
          "output_type": "stream",
          "text": [
            "\n",
            "CLASSIFICATION REPORT               precision    recall  f1-score   support\n",
            "\n",
            "           0       0.67      0.98      0.80      3627\n",
            "           1       0.97      0.60      0.74      4419\n",
            "\n",
            "    accuracy                           0.77      8046\n",
            "   macro avg       0.82      0.79      0.77      8046\n",
            "weighted avg       0.84      0.77      0.77      8046\n",
            "\n",
            "--------------------------------------------------------\n",
            "\n",
            "NaiveBayes\n",
            "Here is our mean accuracy on the test set:\n",
            " 0.762\n",
            "Here is our mean accuracy on the train set:\n",
            " 0.761\n"
          ],
          "name": "stdout"
        },
        {
          "output_type": "display_data",
          "data": {
            "image/png": "[encoded data removed]",
            "text/plain": [
              "<Figure size 432x288 with 1 Axes>"
            ]
          },
          "metadata": {
            "tags": []
          }
        },
        {
          "output_type": "stream",
          "text": [
            "\n",
            "CLASSIFICATION REPORT               precision    recall  f1-score   support\n",
            "\n",
            "           0       0.65      1.00      0.79      3627\n",
            "           1       1.00      0.57      0.72      4419\n",
            "\n",
            "    accuracy                           0.76      8046\n",
            "   macro avg       0.83      0.78      0.76      8046\n",
            "weighted avg       0.84      0.76      0.75      8046\n",
            "\n",
            "--------------------------------------------------------\n",
            "\n",
            "KNN_wv\n",
            "Here is our mean accuracy on the test set:\n",
            " 0.747\n",
            "Here is our mean accuracy on the train set:\n",
            " 0.751\n"
          ],
          "name": "stdout"
        },
        {
          "output_type": "display_data",
          "data": {
            "image/png": "[encoded data removed]",
            "text/plain": [
              "<Figure size 432x288 with 1 Axes>"
            ]
          },
          "metadata": {
            "tags": []
          }
        },
        {
          "output_type": "stream",
          "text": [
            "\n",
            "CLASSIFICATION REPORT               precision    recall  f1-score   support\n",
            "\n",
            "           0       0.67      0.87      0.76      3627\n",
            "           1       0.86      0.65      0.74      4419\n",
            "\n",
            "    accuracy                           0.75      8046\n",
            "   macro avg       0.76      0.76      0.75      8046\n",
            "weighted avg       0.77      0.75      0.75      8046\n",
            "\n",
            "--------------------------------------------------------\n",
            "\n",
            "DT\n",
            "Here is our mean accuracy on the test set:\n",
            " 0.772\n",
            "Here is our mean accuracy on the train set:\n",
            " 0.778\n"
          ],
          "name": "stdout"
        },
        {
          "output_type": "display_data",
          "data": {
            "image/png": "[encoded data removed]",
            "text/plain": [
              "<Figure size 432x288 with 1 Axes>"
            ]
          },
          "metadata": {
            "tags": []
          }
        },
        {
          "output_type": "stream",
          "text": [
            "\n",
            "CLASSIFICATION REPORT               precision    recall  f1-score   support\n",
            "\n",
            "           0       0.68      0.95      0.79      3627\n",
            "           1       0.94      0.62      0.75      4419\n",
            "\n",
            "    accuracy                           0.77      8046\n",
            "   macro avg       0.81      0.79      0.77      8046\n",
            "weighted avg       0.82      0.77      0.77      8046\n",
            "\n",
            "--------------------------------------------------------\n",
            "\n",
            "RF\n",
            "Here is our mean accuracy on the test set:\n",
            " 0.771\n",
            "Here is our mean accuracy on the train set:\n",
            " 0.778\n"
          ],
          "name": "stdout"
        },
        {
          "output_type": "display_data",
          "data": {
            "image/png": "[encoded data removed]",
            "text/plain": [
              "<Figure size 432x288 with 1 Axes>"
            ]
          },
          "metadata": {
            "tags": []
          }
        },
        {
          "output_type": "stream",
          "text": [
            "\n",
            "CLASSIFICATION REPORT               precision    recall  f1-score   support\n",
            "\n",
            "           0       0.68      0.95      0.79      3627\n",
            "           1       0.93      0.63      0.75      4419\n",
            "\n",
            "    accuracy                           0.77      8046\n",
            "   macro avg       0.81      0.79      0.77      8046\n",
            "weighted avg       0.82      0.77      0.77      8046\n",
            "\n",
            "--------------------------------------------------------\n",
            "\n",
            "BaggedkNN\n",
            "Here is our mean accuracy on the test set:\n",
            " 0.774\n",
            "Here is our mean accuracy on the train set:\n",
            " 0.775\n"
          ],
          "name": "stdout"
        },
        {
          "output_type": "display_data",
          "data": {
            "image/png": "[encoded data removed]",
            "text/plain": [
              "<Figure size 432x288 with 1 Axes>"
            ]
          },
          "metadata": {
            "tags": []
          }
        },
        {
          "output_type": "stream",
          "text": [
            "\n",
            "CLASSIFICATION REPORT               precision    recall  f1-score   support\n",
            "\n",
            "           0       0.68      0.96      0.79      3627\n",
            "           1       0.95      0.62      0.75      4419\n",
            "\n",
            "    accuracy                           0.77      8046\n",
            "   macro avg       0.81      0.79      0.77      8046\n",
            "weighted avg       0.82      0.77      0.77      8046\n",
            "\n",
            "--------------------------------------------------------\n",
            "\n",
            "BaggedLR\n",
            "Here is our mean accuracy on the test set:\n",
            " 0.772\n",
            "Here is our mean accuracy on the train set:\n",
            " 0.769\n"
          ],
          "name": "stdout"
        },
        {
          "output_type": "display_data",
          "data": {
            "image/png": "[encoded data removed]",
            "text/plain": [
              "<Figure size 432x288 with 1 Axes>"
            ]
          },
          "metadata": {
            "tags": []
          }
        },
        {
          "output_type": "stream",
          "text": [
            "\n",
            "CLASSIFICATION REPORT               precision    recall  f1-score   support\n",
            "\n",
            "           0       0.67      0.98      0.79      3627\n",
            "           1       0.97      0.60      0.74      4419\n",
            "\n",
            "    accuracy                           0.77      8046\n",
            "   macro avg       0.82      0.79      0.77      8046\n",
            "weighted avg       0.84      0.77      0.77      8046\n",
            "\n",
            "--------------------------------------------------------\n",
            "\n",
            "BaggedNB\n",
            "Here is our mean accuracy on the test set:\n",
            " 0.762\n",
            "Here is our mean accuracy on the train set:\n",
            " 0.761\n"
          ],
          "name": "stdout"
        },
        {
          "output_type": "display_data",
          "data": {
            "image/png": "[encoded data removed]",
            "text/plain": [
              "<Figure size 432x288 with 1 Axes>"
            ]
          },
          "metadata": {
            "tags": []
          }
        },
        {
          "output_type": "stream",
          "text": [
            "\n",
            "CLASSIFICATION REPORT               precision    recall  f1-score   support\n",
            "\n",
            "           0       0.65      1.00      0.79      3627\n",
            "           1       1.00      0.57      0.72      4419\n",
            "\n",
            "    accuracy                           0.76      8046\n",
            "   macro avg       0.83      0.78      0.76      8046\n",
            "weighted avg       0.84      0.76      0.75      8046\n",
            "\n",
            "--------------------------------------------------------\n",
            "\n",
            "BaggedDT\n",
            "Here is our mean accuracy on the test set:\n",
            " 0.774\n",
            "Here is our mean accuracy on the train set:\n",
            " 0.777\n"
          ],
          "name": "stdout"
        },
        {
          "output_type": "display_data",
          "data": {
            "image/png": "[encoded data removed]",
            "text/plain": [
              "<Figure size 432x288 with 1 Axes>"
            ]
          },
          "metadata": {
            "tags": []
          }
        },
        {
          "output_type": "stream",
          "text": [
            "\n",
            "CLASSIFICATION REPORT               precision    recall  f1-score   support\n",
            "\n",
            "           0       0.68      0.94      0.79      3627\n",
            "           1       0.93      0.63      0.75      4419\n",
            "\n",
            "    accuracy                           0.77      8046\n",
            "   macro avg       0.81      0.79      0.77      8046\n",
            "weighted avg       0.82      0.77      0.77      8046\n",
            "\n",
            "--------------------------------------------------------\n",
            "\n",
            "BoostLR\n",
            "Here is our mean accuracy on the test set:\n",
            " 0.767\n",
            "Here is our mean accuracy on the train set:\n",
            " 0.766\n"
          ],
          "name": "stdout"
        },
        {
          "output_type": "display_data",
          "data": {
            "image/png": "[encoded data removed]",
            "text/plain": [
              "<Figure size 432x288 with 1 Axes>"
            ]
          },
          "metadata": {
            "tags": []
          }
        },
        {
          "output_type": "stream",
          "text": [
            "\n",
            "CLASSIFICATION REPORT               precision    recall  f1-score   support\n",
            "\n",
            "           0       0.66      0.99      0.79      3627\n",
            "           1       0.99      0.58      0.73      4419\n",
            "\n",
            "    accuracy                           0.77      8046\n",
            "   macro avg       0.82      0.79      0.76      8046\n",
            "weighted avg       0.84      0.77      0.76      8046\n",
            "\n",
            "--------------------------------------------------------\n",
            "\n",
            "BoostDT\n",
            "Here is our mean accuracy on the test set:\n",
            " 0.773\n",
            "Here is our mean accuracy on the train set:\n",
            " 0.778\n"
          ],
          "name": "stdout"
        },
        {
          "output_type": "display_data",
          "data": {
            "image/png": "[encoded data removed]",
            "text/plain": [
              "<Figure size 432x288 with 1 Axes>"
            ]
          },
          "metadata": {
            "tags": []
          }
        },
        {
          "output_type": "stream",
          "text": [
            "\n",
            "CLASSIFICATION REPORT               precision    recall  f1-score   support\n",
            "\n",
            "           0       0.68      0.95      0.79      3627\n",
            "           1       0.94      0.63      0.75      4419\n",
            "\n",
            "    accuracy                           0.77      8046\n",
            "   macro avg       0.81      0.79      0.77      8046\n",
            "weighted avg       0.82      0.77      0.77      8046\n",
            "\n",
            "--------------------------------------------------------\n",
            "\n",
            "BoostRF\n",
            "Here is our mean accuracy on the test set:\n",
            " 0.772\n",
            "Here is our mean accuracy on the train set:\n",
            " 0.778\n"
          ],
          "name": "stdout"
        },
        {
          "output_type": "display_data",
          "data": {
            "image/png": "[encoded data removed]",
            "text/plain": [
              "<Figure size 432x288 with 1 Axes>"
            ]
          },
          "metadata": {
            "tags": []
          }
        },
        {
          "output_type": "stream",
          "text": [
            "\n",
            "CLASSIFICATION REPORT               precision    recall  f1-score   support\n",
            "\n",
            "           0       0.68      0.95      0.79      3627\n",
            "           1       0.94      0.63      0.75      4419\n",
            "\n",
            "    accuracy                           0.77      8046\n",
            "   macro avg       0.81      0.79      0.77      8046\n",
            "weighted avg       0.82      0.77      0.77      8046\n",
            "\n",
            "--------------------------------------------------------\n",
            "\n",
            "BoostNB\n",
            "Here is our mean accuracy on the test set:\n",
            " 0.549\n",
            "Here is our mean accuracy on the train set:\n",
            " 0.546\n"
          ],
          "name": "stdout"
        },
        {
          "output_type": "display_data",
          "data": {
            "image/png": "[encoded data removed]",
            "text/plain": [
              "<Figure size 432x288 with 1 Axes>"
            ]
          },
          "metadata": {
            "tags": []
          }
        },
        {
          "output_type": "stream",
          "text": [
            "\n",
            "CLASSIFICATION REPORT               precision    recall  f1-score   support\n",
            "\n",
            "           0       0.00      0.00      0.00      3627\n",
            "           1       0.55      1.00      0.71      4419\n",
            "\n",
            "    accuracy                           0.55      8046\n",
            "   macro avg       0.27      0.50      0.35      8046\n",
            "weighted avg       0.30      0.55      0.39      8046\n",
            "\n",
            "--------------------------------------------------------\n",
            "\n"
          ],
          "name": "stdout"
        }
      ]
    },
    {
      "cell_type": "code",
      "metadata": {
        "id": "4H4YKUiDgZRD",
        "colab_type": "code",
        "colab": {
          "base_uri": "https://localhost:8080/",
          "height": 104
        },
        "outputId": "6bdfe358-89e3-4291-a607-067e891545ba"
      },
      "source": [
        "LR.fit(x_train,y_train)"
      ],
      "execution_count": null,
      "outputs": [
        {
          "output_type": "execute_result",
          "data": {
            "text/plain": [
              "LogisticRegression(C=1.0, class_weight=None, dual=False, fit_intercept=True,\n",
              "                   intercept_scaling=1, l1_ratio=None, max_iter=100,\n",
              "                   multi_class='warn', n_jobs=None, penalty='l2',\n",
              "                   random_state=None, solver='warn', tol=0.0001, verbose=0,\n",
              "                   warm_start=False)"
            ]
          },
          "metadata": {
            "tags": []
          },
          "execution_count": 101
        }
      ]
    },
    {
      "cell_type": "code",
      "metadata": {
        "id": "f8i93yViiBQ4",
        "colab_type": "code",
        "colab": {}
      },
      "source": [
        "y_predict_LR=LR.predict(x_test)"
      ],
      "execution_count": null,
      "outputs": []
    },
    {
      "cell_type": "code",
      "metadata": {
        "id": "-tAUAnDjkDXg",
        "colab_type": "code",
        "colab": {
          "base_uri": "https://localhost:8080/",
          "height": 52
        },
        "outputId": "754e2cf6-cc5e-413b-dff3-fe0cea7efbf9"
      },
      "source": [
        "confusion = metrics.confusion_matrix( y_predict_LR, y_test )\n",
        "confusion"
      ],
      "execution_count": null,
      "outputs": [
        {
          "output_type": "execute_result",
          "data": {
            "text/plain": [
              "array([[3559, 1767],\n",
              "       [  68, 2652]])"
            ]
          },
          "metadata": {
            "tags": []
          },
          "execution_count": 103
        }
      ]
    },
    {
      "cell_type": "code",
      "metadata": {
        "id": "YL1ZrBQcxRAi",
        "colab_type": "code",
        "colab": {
          "base_uri": "https://localhost:8080/",
          "height": 295
        },
        "outputId": "be5eca0c-9f4e-4ea4-bdb8-de1f6f853988"
      },
      "source": [
        "confusion = metrics.confusion_matrix( y_predict_LR, y_test )\n",
        "sns.heatmap(confusion, annot=True, fmt='d', cbar=False)\n",
        "plt.xlabel('Predicted Values')\n",
        "plt.ylabel('Actual Values')\n",
        "plt.title('Actual vs. Predicted Confusion Matrix')\n",
        "plt.show()"
      ],
      "execution_count": null,
      "outputs": [
        {
          "output_type": "display_data",
          "data": {
            "image/png": "[encoded data removed]",
            "text/plain": [
              "<Figure size 432x288 with 1 Axes>"
            ]
          },
          "metadata": {
            "tags": []
          }
        }
      ]
    },
    {
      "cell_type": "code",
      "metadata": {
        "id": "eZL44xqYzaiO",
        "colab_type": "code",
        "colab": {
          "base_uri": "https://localhost:8080/",
          "height": 52
        },
        "outputId": "e1d926ba-5a94-49ab-e49a-00abad616914"
      },
      "source": [
        "accuracy_LR =LR.score(x_test,y_test)\n",
        "\n",
        "print(\"Here is our mean accuracy on the test set:\\n {0:.3f}\"\\\n",
        "      .format(accuracy_LR))"
      ],
      "execution_count": null,
      "outputs": [
        {
          "output_type": "stream",
          "text": [
            "Here is our mean accuracy on the test set:\n",
            " 0.772\n"
          ],
          "name": "stdout"
        }
      ]
    },
    {
      "cell_type": "code",
      "metadata": {
        "id": "ePw1GJhB1xYt",
        "colab_type": "code",
        "colab": {
          "base_uri": "https://localhost:8080/",
          "height": 52
        },
        "outputId": "f05caa18-7606-4eec-fcef-198c922e3167"
      },
      "source": [
        "accuracy_LR =LR.score(x_train,y_train)\n",
        "\n",
        "print(\"Here is our mean accuracy on the test set:\\n {0:.3f}\"\\\n",
        "      .format(accuracy_LR))"
      ],
      "execution_count": null,
      "outputs": [
        {
          "output_type": "stream",
          "text": [
            "Here is our mean accuracy on the test set:\n",
            " 0.769\n"
          ],
          "name": "stdout"
        }
      ]
    },
    {
      "cell_type": "code",
      "metadata": {
        "id": "ZJEVDHvJ8eJ4",
        "colab_type": "code",
        "colab": {
          "base_uri": "https://localhost:8080/",
          "height": 55
        },
        "outputId": "94aa2fc8-9979-4418-dccb-f3922eb14c32"
      },
      "source": [
        "classification_report(y_test, y_predict_LR)"
      ],
      "execution_count": null,
      "outputs": [
        {
          "output_type": "execute_result",
          "data": {
            "text/plain": [
              "'              precision    recall  f1-score   support\\n\\n           0       0.00      0.00      0.00      3627\\n           1       0.55      1.00      0.71      4419\\n\\n    accuracy                           0.55      8046\\n   macro avg       0.27      0.50      0.35      8046\\nweighted avg       0.30      0.55      0.39      8046\\n'"
            ]
          },
          "metadata": {
            "tags": []
          },
          "execution_count": 154
        }
      ]
    },
    {
      "cell_type": "code",
      "metadata": {
        "id": "vEv4HgG0Ey0O",
        "colab_type": "code",
        "colab": {
          "base_uri": "https://localhost:8080/",
          "height": 167
        },
        "outputId": "f6777494-7b54-4477-80ce-f8e1d1848f48"
      },
      "source": [
        "sklearn.metrics.f1_score"
      ],
      "execution_count": null,
      "outputs": [
        {
          "output_type": "error",
          "ename": "NameError",
          "evalue": "ignored",
          "traceback": [
            "\u001b[0;31m---------------------------------------------------------------------------\u001b[0m",
            "\u001b[0;31mNameError\u001b[0m                                 Traceback (most recent call last)",
            "\u001b[0;32m<ipython-input-108-c584eb378ac8>\u001b[0m in \u001b[0;36m<module>\u001b[0;34m()\u001b[0m\n\u001b[0;32m----> 1\u001b[0;31m \u001b[0msklearn\u001b[0m\u001b[0;34m.\u001b[0m\u001b[0mmetrics\u001b[0m\u001b[0;34m.\u001b[0m\u001b[0mf1_score\u001b[0m\u001b[0;34m\u001b[0m\u001b[0;34m\u001b[0m\u001b[0m\n\u001b[0m",
            "\u001b[0;31mNameError\u001b[0m: name 'sklearn' is not defined"
          ]
        }
      ]
    },
    {
      "cell_type": "code",
      "metadata": {
        "id": "c9m5wkCulx6T",
        "colab_type": "code",
        "colab": {
          "base_uri": "https://localhost:8080/",
          "height": 260
        },
        "outputId": "8af65afb-46c1-4a83-f0c2-99ede278e990"
      },
      "source": [
        "LR_boost.fit(x_train,y_train)"
      ],
      "execution_count": null,
      "outputs": [
        {
          "output_type": "execute_result",
          "data": {
            "text/plain": [
              "AdaBoostClassifier(algorithm='SAMME.R',\n",
              "                   base_estimator=LogisticRegression(C=1.0, class_weight=None,\n",
              "                                                     dual=False,\n",
              "                                                     fit_intercept=True,\n",
              "                                                     intercept_scaling=1,\n",
              "                                                     l1_ratio=None,\n",
              "                                                     max_iter=100,\n",
              "                                                     multi_class='warn',\n",
              "                                                     n_jobs=None, penalty='l2',\n",
              "                                                     random_state=None,\n",
              "                                                     solver='warn', tol=0.0001,\n",
              "                                                     verbose=0,\n",
              "                                                     warm_start=False),\n",
              "                   learning_rate=1.0, n_estimators=300, random_state=0)"
            ]
          },
          "metadata": {
            "tags": []
          },
          "execution_count": 110
        }
      ]
    },
    {
      "cell_type": "code",
      "metadata": {
        "id": "fl8nnB3GoUJr",
        "colab_type": "code",
        "colab": {}
      },
      "source": [
        "y_predict_lr=LR_boost.predict(x_test)"
      ],
      "execution_count": null,
      "outputs": []
    },
    {
      "cell_type": "code",
      "metadata": {
        "id": "z4t4r7hnod5O",
        "colab_type": "code",
        "colab": {
          "base_uri": "https://localhost:8080/",
          "height": 52
        },
        "outputId": "127ec78f-d68e-4dab-ced5-7753acb64be7"
      },
      "source": [
        "confusion = metrics.confusion_matrix( y_predict_lr, y_test )\n",
        "confusion"
      ],
      "execution_count": null,
      "outputs": [
        {
          "output_type": "execute_result",
          "data": {
            "text/plain": [
              "array([[3596, 1843],\n",
              "       [  31, 2576]])"
            ]
          },
          "metadata": {
            "tags": []
          },
          "execution_count": 112
        }
      ]
    },
    {
      "cell_type": "code",
      "metadata": {
        "id": "m7jr0R9o_GCd",
        "colab_type": "code",
        "colab": {
          "base_uri": "https://localhost:8080/",
          "height": 52
        },
        "outputId": "c2758704-acb0-453e-f258-b4a51a1a6465"
      },
      "source": [
        "accuracy_LR_boost =LR_boost.score(x_test,y_test)\n",
        "\n",
        "print(\"Here is our mean accuracy on the test set:\\n {0:.3f}\"\\\n",
        "      .format(accuracy_LR))"
      ],
      "execution_count": null,
      "outputs": [
        {
          "output_type": "stream",
          "text": [
            "Here is our mean accuracy on the test set:\n",
            " 0.769\n"
          ],
          "name": "stdout"
        }
      ]
    },
    {
      "cell_type": "code",
      "metadata": {
        "id": "cXQFt4eVr4_Z",
        "colab_type": "code",
        "colab": {
          "base_uri": "https://localhost:8080/",
          "height": 295
        },
        "outputId": "42d858cf-a6e6-4a93-b8bc-3ef17c4b06bd"
      },
      "source": [
        "confusion = metrics.confusion_matrix( y_predict_lr, y_test )\n",
        "sns.heatmap(confusion, annot=True, fmt='d', cbar=False)\n",
        "plt.xlabel('Predicted Values')\n",
        "plt.ylabel('Actual Values')\n",
        "plt.title('Actual vs. Predicted Confusion Matrix')\n",
        "plt.show()"
      ],
      "execution_count": null,
      "outputs": [
        {
          "output_type": "display_data",
          "data": {
            "image/png": "[encoded data removed]",
            "text/plain": [
              "<Figure size 432x288 with 1 Axes>"
            ]
          },
          "metadata": {
            "tags": []
          }
        }
      ]
    },
    {
      "cell_type": "code",
      "metadata": {
        "id": "sICRrl3i57oF",
        "colab_type": "code",
        "colab": {
          "base_uri": "https://localhost:8080/",
          "height": 52
        },
        "outputId": "077d1f51-a71d-4aff-e9a4-8a87b27b190f"
      },
      "source": [
        "accuracy_LR_boost =LR_boost.score(x_test,y_test)\n",
        "\n",
        "print(\"Here is our mean accuracy on the test set:\\n {0:.3f}\"\\\n",
        "      .format(accuracy_LR))"
      ],
      "execution_count": null,
      "outputs": [
        {
          "output_type": "stream",
          "text": [
            "Here is our mean accuracy on the test set:\n",
            " 0.769\n"
          ],
          "name": "stdout"
        }
      ]
    },
    {
      "cell_type": "code",
      "metadata": {
        "id": "U6u04pws6Jv_",
        "colab_type": "code",
        "colab": {
          "base_uri": "https://localhost:8080/",
          "height": 52
        },
        "outputId": "c30a3e0c-5c6f-49cd-98b4-2540fce3403b"
      },
      "source": [
        "accuracy_LR_boost =LR_boost.score(x_train,y_train)\n",
        "\n",
        "print(\"Here is our mean accuracy on the test set:\\n {0:.3f}\"\\\n",
        "      .format(accuracy_LR))"
      ],
      "execution_count": null,
      "outputs": [
        {
          "output_type": "stream",
          "text": [
            "Here is our mean accuracy on the test set:\n",
            " 0.769\n"
          ],
          "name": "stdout"
        }
      ]
    },
    {
      "cell_type": "code",
      "metadata": {
        "id": "BO6LD39oGy4y",
        "colab_type": "code",
        "colab": {
          "base_uri": "https://localhost:8080/",
          "height": 173
        },
        "outputId": "1d0efb4f-e419-46fb-cf3c-f1c81165adbe"
      },
      "source": [
        "print(classification_report(y_test, y_predict_lr))"
      ],
      "execution_count": null,
      "outputs": [
        {
          "output_type": "stream",
          "text": [
            "              precision    recall  f1-score   support\n",
            "\n",
            "           0       0.66      0.99      0.79      3627\n",
            "           1       0.99      0.58      0.73      4419\n",
            "\n",
            "    accuracy                           0.77      8046\n",
            "   macro avg       0.82      0.79      0.76      8046\n",
            "weighted avg       0.84      0.77      0.76      8046\n",
            "\n"
          ],
          "name": "stdout"
        }
      ]
    },
    {
      "cell_type": "code",
      "metadata": {
        "id": "KfrybBKtorhy",
        "colab_type": "code",
        "colab": {
          "base_uri": "https://localhost:8080/",
          "height": 347
        },
        "outputId": "d3d3f8e8-cfd4-4872-c308-3adb942950cc"
      },
      "source": [
        "RF_boost.fit(x_train,y_train)"
      ],
      "execution_count": null,
      "outputs": [
        {
          "output_type": "execute_result",
          "data": {
            "text/plain": [
              "AdaBoostClassifier(algorithm='SAMME.R',\n",
              "                   base_estimator=RandomForestClassifier(bootstrap=True,\n",
              "                                                         class_weight=None,\n",
              "                                                         criterion='gini',\n",
              "                                                         max_depth=None,\n",
              "                                                         max_features='auto',\n",
              "                                                         max_leaf_nodes=None,\n",
              "                                                         min_impurity_decrease=0.0,\n",
              "                                                         min_impurity_split=None,\n",
              "                                                         min_samples_leaf=1,\n",
              "                                                         min_samples_split=2,\n",
              "                                                         min_weight_fraction_leaf=0.0,\n",
              "                                                         n_estimators=10,\n",
              "                                                         n_jobs=None,\n",
              "                                                         oob_score=False,\n",
              "                                                         random_state=0,\n",
              "                                                         verbose=0,\n",
              "                                                         warm_start=False),\n",
              "                   learning_rate=1.0, n_estimators=50, random_state=0)"
            ]
          },
          "metadata": {
            "tags": []
          },
          "execution_count": 118
        }
      ]
    },
    {
      "cell_type": "code",
      "metadata": {
        "id": "K6P7TfK0o14V",
        "colab_type": "code",
        "colab": {}
      },
      "source": [
        "y_predict_RF=RF_boost.predict(x_test)"
      ],
      "execution_count": null,
      "outputs": []
    },
    {
      "cell_type": "code",
      "metadata": {
        "id": "OFrRuO7ApPt6",
        "colab_type": "code",
        "colab": {
          "base_uri": "https://localhost:8080/",
          "height": 52
        },
        "outputId": "23301135-4d81-4c04-986f-305a0f5a4219"
      },
      "source": [
        "confusion2 = metrics.confusion_matrix( y_predict_RF, y_test )\n",
        "confusion2"
      ],
      "execution_count": null,
      "outputs": [
        {
          "output_type": "execute_result",
          "data": {
            "text/plain": [
              "array([[3442, 1649],\n",
              "       [ 185, 2770]])"
            ]
          },
          "metadata": {
            "tags": []
          },
          "execution_count": 120
        }
      ]
    },
    {
      "cell_type": "code",
      "metadata": {
        "id": "yZfu0a_xV2Yd",
        "colab_type": "code",
        "colab": {
          "base_uri": "https://localhost:8080/",
          "height": 52
        },
        "outputId": "c217a18f-6c89-4580-9c09-42b2145f7de0"
      },
      "source": [
        "accuracy_RF_boost =RF_boost.score(x_test,y_test)\n",
        "\n",
        "print(\"Here is our mean accuracy on the test set:\\n {0:.3f}\"\\\n",
        "      .format(accuracy_RF_boost))"
      ],
      "execution_count": null,
      "outputs": [
        {
          "output_type": "stream",
          "text": [
            "Here is our mean accuracy on the test set:\n",
            " 0.772\n"
          ],
          "name": "stdout"
        }
      ]
    },
    {
      "cell_type": "code",
      "metadata": {
        "id": "kvQmTleRE0oq",
        "colab_type": "code",
        "colab": {
          "base_uri": "https://localhost:8080/",
          "height": 52
        },
        "outputId": "99cbda32-3bfd-4f9d-e092-53e322d4ed0a"
      },
      "source": [
        "accuracy_RF_boost =LR_boost.score(x_train,y_train)\n",
        "\n",
        "print(\"Here is our mean accuracy on the test set:\\n {0:.3f}\"\\\n",
        "      .format(accuracy_RF_boost))"
      ],
      "execution_count": null,
      "outputs": [
        {
          "output_type": "stream",
          "text": [
            "Here is our mean accuracy on the test set:\n",
            " 0.766\n"
          ],
          "name": "stdout"
        }
      ]
    },
    {
      "cell_type": "code",
      "metadata": {
        "id": "DI0Ufd9-pVxR",
        "colab_type": "code",
        "colab": {
          "base_uri": "https://localhost:8080/",
          "height": 167
        },
        "outputId": "41d6c409-5774-4742-88bd-682e44d5658f"
      },
      "source": [
        "training_set, test_set, class_set, test_class_set = train_test_split(X,Y,test_size = 0.20,random_state = 42)"
      ],
      "execution_count": null,
      "outputs": [
        {
          "output_type": "error",
          "ename": "NameError",
          "evalue": "ignored",
          "traceback": [
            "\u001b[0;31m---------------------------------------------------------------------------\u001b[0m",
            "\u001b[0;31mNameError\u001b[0m                                 Traceback (most recent call last)",
            "\u001b[0;32m<ipython-input-123-3f0fa05e0353>\u001b[0m in \u001b[0;36m<module>\u001b[0;34m()\u001b[0m\n\u001b[0;32m----> 1\u001b[0;31m \u001b[0mtraining_set\u001b[0m\u001b[0;34m,\u001b[0m \u001b[0mtest_set\u001b[0m\u001b[0;34m,\u001b[0m \u001b[0mclass_set\u001b[0m\u001b[0;34m,\u001b[0m \u001b[0mtest_class_set\u001b[0m \u001b[0;34m=\u001b[0m \u001b[0mtrain_test_split\u001b[0m\u001b[0;34m(\u001b[0m\u001b[0mX\u001b[0m\u001b[0;34m,\u001b[0m\u001b[0mY\u001b[0m\u001b[0;34m,\u001b[0m\u001b[0mtest_size\u001b[0m \u001b[0;34m=\u001b[0m \u001b[0;36m0.20\u001b[0m\u001b[0;34m,\u001b[0m\u001b[0mrandom_state\u001b[0m \u001b[0;34m=\u001b[0m \u001b[0;36m42\u001b[0m\u001b[0;34m)\u001b[0m\u001b[0;34m\u001b[0m\u001b[0;34m\u001b[0m\u001b[0m\n\u001b[0m",
            "\u001b[0;31mNameError\u001b[0m: name 'X' is not defined"
          ]
        }
      ]
    },
    {
      "cell_type": "code",
      "metadata": {
        "id": "zJp5-11cITKe",
        "colab_type": "code",
        "colab": {
          "base_uri": "https://localhost:8080/",
          "height": 121
        },
        "outputId": "8dc18da5-b94a-47ff-de2b-57297f48a814"
      },
      "source": [
        "DT.fit(x_train,y_train)"
      ],
      "execution_count": null,
      "outputs": [
        {
          "output_type": "execute_result",
          "data": {
            "text/plain": [
              "DecisionTreeClassifier(class_weight=None, criterion='entropy', max_depth=None,\n",
              "                       max_features=None, max_leaf_nodes=None,\n",
              "                       min_impurity_decrease=0.0, min_impurity_split=None,\n",
              "                       min_samples_leaf=1, min_samples_split=2,\n",
              "                       min_weight_fraction_leaf=0.0, presort=False,\n",
              "                       random_state=0, splitter='best')"
            ]
          },
          "metadata": {
            "tags": []
          },
          "execution_count": 124
        }
      ]
    },
    {
      "cell_type": "code",
      "metadata": {
        "id": "q9ouTlLlHbZr",
        "colab_type": "code",
        "colab": {}
      },
      "source": [
        "y_dt=DT.predict(x_test)"
      ],
      "execution_count": null,
      "outputs": []
    },
    {
      "cell_type": "code",
      "metadata": {
        "id": "6zPtUk-8IQ8Y",
        "colab_type": "code",
        "colab": {
          "base_uri": "https://localhost:8080/",
          "height": 52
        },
        "outputId": "c30f6a1d-8c1e-4f43-f883-ed6ddb1ec305"
      },
      "source": [
        "confusion3 = metrics.confusion_matrix( y_dt, y_test )\n",
        "confusion3"
      ],
      "execution_count": null,
      "outputs": [
        {
          "output_type": "execute_result",
          "data": {
            "text/plain": [
              "array([[3461, 1666],\n",
              "       [ 166, 2753]])"
            ]
          },
          "metadata": {
            "tags": []
          },
          "execution_count": 126
        }
      ]
    },
    {
      "cell_type": "code",
      "metadata": {
        "id": "0xrR2R4IImqy",
        "colab_type": "code",
        "colab": {
          "base_uri": "https://localhost:8080/",
          "height": 52
        },
        "outputId": "a2fcd591-8e7d-4a74-d844-545a4a870f2c"
      },
      "source": [
        "accuracy_DT =DT.score(x_test,y_test)\n",
        "\n",
        "print(\"Here is our mean accuracy on the test set:\\n {0:.3f}\"\\\n",
        "      .format(accuracy_DT))"
      ],
      "execution_count": null,
      "outputs": [
        {
          "output_type": "stream",
          "text": [
            "Here is our mean accuracy on the test set:\n",
            " 0.772\n"
          ],
          "name": "stdout"
        }
      ]
    },
    {
      "cell_type": "code",
      "metadata": {
        "id": "WMOapJMBIuff",
        "colab_type": "code",
        "colab": {
          "base_uri": "https://localhost:8080/",
          "height": 52
        },
        "outputId": "28deac3d-a800-4903-fb7f-f0ab80ca8e07"
      },
      "source": [
        "accuracy_DT =DT.score(x_train,y_train)\n",
        "\n",
        "print(\"Here is our mean accuracy on the test set:\\n {0:.3f}\"\\\n",
        "      .format(accuracy_DT))"
      ],
      "execution_count": null,
      "outputs": [
        {
          "output_type": "stream",
          "text": [
            "Here is our mean accuracy on the test set:\n",
            " 0.778\n"
          ],
          "name": "stdout"
        }
      ]
    },
    {
      "cell_type": "code",
      "metadata": {
        "id": "Pc57nZI9QQ0D",
        "colab_type": "code",
        "colab": {
          "base_uri": "https://localhost:8080/",
          "height": 277
        },
        "outputId": "a1fc53ff-3202-4f7c-d25d-d77663e15938"
      },
      "source": [
        "DT_boost.fit(x_train,y_train)"
      ],
      "execution_count": null,
      "outputs": [
        {
          "output_type": "execute_result",
          "data": {
            "text/plain": [
              "AdaBoostClassifier(algorithm='SAMME.R',\n",
              "                   base_estimator=DecisionTreeClassifier(class_weight=None,\n",
              "                                                         criterion='entropy',\n",
              "                                                         max_depth=None,\n",
              "                                                         max_features=None,\n",
              "                                                         max_leaf_nodes=None,\n",
              "                                                         min_impurity_decrease=0.0,\n",
              "                                                         min_impurity_split=None,\n",
              "                                                         min_samples_leaf=1,\n",
              "                                                         min_samples_split=2,\n",
              "                                                         min_weight_fraction_leaf=0.0,\n",
              "                                                         presort=False,\n",
              "                                                         random_state=0,\n",
              "                                                         splitter='best'),\n",
              "                   learning_rate=1.0, n_estimators=50, random_state=0)"
            ]
          },
          "metadata": {
            "tags": []
          },
          "execution_count": 129
        }
      ]
    },
    {
      "cell_type": "code",
      "metadata": {
        "id": "o5Q_k4PfJTNJ",
        "colab_type": "code",
        "colab": {}
      },
      "source": [
        "y_dt=DT_boost.predict(x_test)"
      ],
      "execution_count": null,
      "outputs": []
    },
    {
      "cell_type": "code",
      "metadata": {
        "id": "2V83H7KzQkYr",
        "colab_type": "code",
        "colab": {
          "base_uri": "https://localhost:8080/",
          "height": 52
        },
        "outputId": "bd0b3103-563c-421a-b5f9-298bfb87e292"
      },
      "source": [
        "confusion3 = metrics.confusion_matrix( y_dt, y_test )\n",
        "confusion3"
      ],
      "execution_count": null,
      "outputs": [
        {
          "output_type": "execute_result",
          "data": {
            "text/plain": [
              "array([[3443, 1643],\n",
              "       [ 184, 2776]])"
            ]
          },
          "metadata": {
            "tags": []
          },
          "execution_count": 131
        }
      ]
    },
    {
      "cell_type": "code",
      "metadata": {
        "id": "iC1grTdlQoNo",
        "colab_type": "code",
        "colab": {
          "base_uri": "https://localhost:8080/",
          "height": 52
        },
        "outputId": "cfab70fa-1ac7-4f3e-8b9f-d683fb91254c"
      },
      "source": [
        "accuracy_DT_boost =DT_boost.score(x_test,y_test)\n",
        "\n",
        "print(\"Here is our mean accuracy on the test set:\\n {0:.3f}\"\\\n",
        "      .format(accuracy_DT_boost))"
      ],
      "execution_count": null,
      "outputs": [
        {
          "output_type": "stream",
          "text": [
            "Here is our mean accuracy on the test set:\n",
            " 0.773\n"
          ],
          "name": "stdout"
        }
      ]
    },
    {
      "cell_type": "code",
      "metadata": {
        "id": "UwGHMUNCQvsk",
        "colab_type": "code",
        "colab": {
          "base_uri": "https://localhost:8080/",
          "height": 52
        },
        "outputId": "6081f9ca-0b15-4f2c-ddd4-1a9bd28cb236"
      },
      "source": [
        "accuracy_DT_boost =DT_boost.score(x_train,y_train)\n",
        "\n",
        "print(\"Here is our mean accuracy on the test set:\\n {0:.3f}\"\\\n",
        "      .format(accuracy_DT_boost))"
      ],
      "execution_count": null,
      "outputs": [
        {
          "output_type": "stream",
          "text": [
            "Here is our mean accuracy on the test set:\n",
            " 0.778\n"
          ],
          "name": "stdout"
        }
      ]
    },
    {
      "cell_type": "code",
      "metadata": {
        "id": "8dXg5LRpQ9Ql",
        "colab_type": "code",
        "colab": {
          "base_uri": "https://localhost:8080/",
          "height": 173
        },
        "outputId": "6cc7218e-4c86-478f-92b5-dd1611b6b10d"
      },
      "source": [
        "print(classification_report(y_test, y_dt))"
      ],
      "execution_count": null,
      "outputs": [
        {
          "output_type": "stream",
          "text": [
            "              precision    recall  f1-score   support\n",
            "\n",
            "           0       0.68      0.95      0.79      3627\n",
            "           1       0.94      0.63      0.75      4419\n",
            "\n",
            "    accuracy                           0.77      8046\n",
            "   macro avg       0.81      0.79      0.77      8046\n",
            "weighted avg       0.82      0.77      0.77      8046\n",
            "\n"
          ],
          "name": "stdout"
        }
      ]
    },
    {
      "cell_type": "code",
      "metadata": {
        "id": "bZlZXKlbXusT",
        "colab_type": "code",
        "colab": {}
      },
      "source": [
        ""
      ],
      "execution_count": null,
      "outputs": []
    }
  ]
}